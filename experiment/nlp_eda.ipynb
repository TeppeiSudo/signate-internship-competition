{
 "cells": [
  {
   "cell_type": "code",
   "execution_count": 93,
   "metadata": {},
   "outputs": [],
   "source": [
    "import numpy as np\n",
    "import pandas as pd\n",
    "from tqdm import tqdm\n",
    "import matplotlib.pyplot as plt\n",
    "import sklearn\n",
    "import sklearn.metrics\n",
    "from sklearn.preprocessing import LabelEncoder\n",
    "from sklearn.metrics import log_loss\n",
    "from sklearn.model_selection import KFold\n",
    "import lightgbm as lgb\n",
    "import nltk\n",
    "from bs4 import BeautifulSoup\n",
    "import transformers\n",
    "\n",
    "import torch\n",
    "import torch.nn as nn\n",
    "import torch.nn.functional as F\n",
    "from torch.utils.data import Dataset, DataLoader"
   ]
  },
  {
   "cell_type": "code",
   "execution_count": 2,
   "metadata": {},
   "outputs": [],
   "source": [
    "train = pd.read_csv('data/train.csv')\n",
    "test = pd.read_csv('data/test.csv')\n",
    "sub = pd.read_csv('data/sample_submit.csv')"
   ]
  },
  {
   "cell_type": "code",
   "execution_count": 27,
   "metadata": {},
   "outputs": [
    {
     "data": {
      "text/html": [
       "<div>\n",
       "<style scoped>\n",
       "    .dataframe tbody tr th:only-of-type {\n",
       "        vertical-align: middle;\n",
       "    }\n",
       "\n",
       "    .dataframe tbody tr th {\n",
       "        vertical-align: top;\n",
       "    }\n",
       "\n",
       "    .dataframe thead th {\n",
       "        text-align: right;\n",
       "    }\n",
       "</style>\n",
       "<table border=\"1\" class=\"dataframe\">\n",
       "  <thead>\n",
       "    <tr style=\"text-align: right;\">\n",
       "      <th></th>\n",
       "      <th>id</th>\n",
       "      <th>goal</th>\n",
       "      <th>country</th>\n",
       "      <th>duration</th>\n",
       "      <th>category1</th>\n",
       "      <th>category2</th>\n",
       "      <th>html_content</th>\n",
       "      <th>state</th>\n",
       "    </tr>\n",
       "  </thead>\n",
       "  <tbody>\n",
       "    <tr>\n",
       "      <th>0</th>\n",
       "      <td>0</td>\n",
       "      <td>4001-5000</td>\n",
       "      <td>CH</td>\n",
       "      <td>29</td>\n",
       "      <td>publishing</td>\n",
       "      <td>young adult</td>\n",
       "      <td>&lt;div class=\"contents\"&gt;&lt;div&gt;&lt;span class=\"bold\"&gt;...</td>\n",
       "      <td>0</td>\n",
       "    </tr>\n",
       "    <tr>\n",
       "      <th>1</th>\n",
       "      <td>1</td>\n",
       "      <td>3001-4000</td>\n",
       "      <td>NL</td>\n",
       "      <td>34</td>\n",
       "      <td>fashion</td>\n",
       "      <td>ready-to-wear</td>\n",
       "      <td>&lt;div class=\"contents\"&gt;&lt;div&gt;&lt;h1 class=\"page-anc...</td>\n",
       "      <td>0</td>\n",
       "    </tr>\n",
       "    <tr>\n",
       "      <th>2</th>\n",
       "      <td>2</td>\n",
       "      <td>19001-20000</td>\n",
       "      <td>US</td>\n",
       "      <td>30</td>\n",
       "      <td>food</td>\n",
       "      <td>spaces</td>\n",
       "      <td>&lt;div class=\"contents\"&gt;&lt;div&gt;&lt;p&gt; As our society ...</td>\n",
       "      <td>0</td>\n",
       "    </tr>\n",
       "    <tr>\n",
       "      <th>3</th>\n",
       "      <td>3</td>\n",
       "      <td>2001-3000</td>\n",
       "      <td>US</td>\n",
       "      <td>41</td>\n",
       "      <td>technology</td>\n",
       "      <td>3d printing</td>\n",
       "      <td>&lt;div class=\"contents\"&gt;&lt;div&gt;&lt;p&gt;My name is Donal...</td>\n",
       "      <td>0</td>\n",
       "    </tr>\n",
       "    <tr>\n",
       "      <th>4</th>\n",
       "      <td>4</td>\n",
       "      <td>2001-3000</td>\n",
       "      <td>GB</td>\n",
       "      <td>29</td>\n",
       "      <td>technology</td>\n",
       "      <td>diy electronics</td>\n",
       "      <td>&lt;div class=\"contents\"&gt;&lt;div&gt;&lt;div class=\"templat...</td>\n",
       "      <td>1</td>\n",
       "    </tr>\n",
       "    <tr>\n",
       "      <th>5</th>\n",
       "      <td>5</td>\n",
       "      <td>1-1000</td>\n",
       "      <td>US</td>\n",
       "      <td>19</td>\n",
       "      <td>photography</td>\n",
       "      <td>fine art</td>\n",
       "      <td>&lt;div class=\"contents\"&gt;&lt;div&gt;&lt;h1 class=\"page-anc...</td>\n",
       "      <td>1</td>\n",
       "    </tr>\n",
       "  </tbody>\n",
       "</table>\n",
       "</div>"
      ],
      "text/plain": [
       "   id         goal country  duration    category1        category2  \\\n",
       "0   0    4001-5000      CH        29   publishing      young adult   \n",
       "1   1    3001-4000      NL        34      fashion    ready-to-wear   \n",
       "2   2  19001-20000      US        30         food           spaces   \n",
       "3   3    2001-3000      US        41   technology      3d printing   \n",
       "4   4    2001-3000      GB        29   technology  diy electronics   \n",
       "5   5       1-1000      US        19  photography         fine art   \n",
       "\n",
       "                                        html_content  state  \n",
       "0  <div class=\"contents\"><div><span class=\"bold\">...      0  \n",
       "1  <div class=\"contents\"><div><h1 class=\"page-anc...      0  \n",
       "2  <div class=\"contents\"><div><p> As our society ...      0  \n",
       "3  <div class=\"contents\"><div><p>My name is Donal...      0  \n",
       "4  <div class=\"contents\"><div><div class=\"templat...      1  \n",
       "5  <div class=\"contents\"><div><h1 class=\"page-anc...      1  "
      ]
     },
     "execution_count": 27,
     "metadata": {},
     "output_type": "execute_result"
    }
   ],
   "source": [
    "train.head(6)"
   ]
  },
  {
   "cell_type": "code",
   "execution_count": 44,
   "metadata": {},
   "outputs": [
    {
     "name": "stdout",
     "output_type": "stream",
     "text": [
      "<div class=\"contents\"><div><p> As our society begins to wake up from the hangover of unconscionable waste, we need to turn to the model of nature and learn how to conserve and reuse our resources. Instead of throwing chemicals into a sterile system, aquaponics creates a harmonious cycle that saves water, energy and waste that can serve as a centerpiece to your room as a living reminder to the responsibility we have to future generations while at the same time providing food and keeping your pets healthy,happy and beautiful.   </p><p>Our website: www.hnuqiponics.com</p><div class=\"template asset\" contenteditable=\"false\" data-alt-text=\"Prototype generation 5 complete system\" data-caption=\"Prototype generation 5 complete system\" data-id=\"_xxx_\">\n",
      "<figure>\n",
      "<img alt=\"Prototype generation 5 complete system\" class=\"fit lazyload\" data-src=\"http://dummy.com\"/>\n",
      "<figcaption class=\"px2\">Prototype generation 5 complete system</figcaption>\n",
      "</figure>\n",
      "</div>\n",
      "<p> </p>\n",
      "<div class=\"template asset\" contenteditable=\"false\" data-alt-text=\"assembled prototype 5 system\" data-caption=\"assembled prototype 5 system\" data-id=\"_xxx_\">\n",
      "<figure>\n",
      "<img alt=\"assembled prototype 5 system\" class=\"fit lazyload\" data-src=\"http://dummy.com\"/>\n",
      "<figcaption class=\"px2\">assembled prototype 5 system</figcaption>\n",
      "</figure>\n",
      "</div>\n",
      "<p>Have you ever wanted to keep fish but the constant maintenance and cleaning scares you off? Do you enjoy fresh herbs when you cook but haven't been able to successfully keep a fresh herb garden? Do you live in a climate where the growing season is very short? Have you ever wanted to keep some exotic flowering plants but found the care to be overwhelming? What if there was a system that would allow you to raise fish and plants with little maintenance and without an advanced degree in biology? The Aquakit creates a balanced environment that allows both plants and animals to flourish while taking away all of the work of daily maintenance.</p><div class=\"template asset\" contenteditable=\"false\" data-alt-text=\"Raising difficult tropical flowers like orchids is easy\" data-caption=\"Raising difficult tropical flowers like orchids is easy\" data-id=\"_xxx_\">\n",
      "<figure>\n",
      "<img alt=\"Raising difficult tropical flowers like orchids is easy\" class=\"fit lazyload\" data-src=\"http://dummy.com\"/>\n",
      "<figcaption class=\"px2\">Raising difficult tropical flowers like orchids is easy</figcaption>\n",
      "</figure>\n",
      "</div>\n",
      "<p>We are not the first company to offer an aquaponics system for home use. We applaud all efforts in this field and support all participants who understand that aquaponics is very much the future of our food production. We cannot sustain the current model of wasting water and over nutrifying our waterways. </p><div class=\"template asset\" contenteditable=\"false\" data-id=\"_xxx_\">\n",
      "<figure class=\"page-anchor\" id=\"_xxx_\">\n",
      "<div class=\"video-player\" data-context=\"Story Description\" data-dimensions='{\"width\":680,\"height\":382}' data-image=\"http://dummy.com\">\n",
      "<video class=\"landscape\" preload=\"none\">\n",
      "<source src=\"http://dummy.com\"'/>\n",
      "<source src=\"http://dummy.com\"'/>\n",
      "このコンテンツを表示するにはHTML5対応のブラウザが必要です。\n",
      "</video>\n",
      "<img alt=\" の動画サムネイル\" class=\"has_played_hide full-width poster landscape\" src=\"http://dummy.com\"/>\n",
      "<div class=\"play_button_container absolute-center has_played_hide\">\n",
      "<button aria-label=\"Play video\" class=\"play_button_big play_button_dark radius2px\" type=\"button\">\n",
      "<span aria-hidden=\"true\" class=\"ksr-icon__play\"></span>\n",
      "動画を再生\n",
      "</button>\n",
      "</div>\n",
      "<div class=\"reset-video js-reset-video-once\">\n",
      "<div class=\"reset-video__icon\">\n",
      "<div class=\"audio-indicator js-autoplay-svg\">\n",
      "<svg version=\"1.1\" viewbox=\"0 0 18 17.2\" xmlns=\"http://dummy.com\">\n",
      "<g>\n",
      "<!-- / Animation Variables -->\n",
      "<!-- / Indicator Bar 1 -->\n",
      "<polygon class=\"audio-indicator-bar\" points=\"0,0 2,0 2,11.5 2,17.2 0,17.2\">\n",
      "<animate attributename=\"points\" begin=\"0s\" calcmode=\"spline\" dur=\"1.2s\" keysplines=\"0.18 0.01 0.37 0.99;0.18 0.01 0.37 0.99;0.18 0.01 0.37 0.99\" keytimes=\"0; 0.3; 0.9; 1\" repeatcount=\"indefinite\" values=\"0,0 2,0 2,11.5 2,17.2 0,17.2;0,2.6 2,2.6 2,8.2 2,17.2 0,17.2;0,12.1 2,12.1 2,14 2,17.2 0,17.2;0,0 2,0 2,11.5 2,17.2 0,17.2\"></animate>\n",
      "</polygon>\n",
      "<!-- / Indicator Bar 2 -->\n",
      "<polygon class=\"audio-indicator-bar\" points=\"4,3.9 6,3.9 6,8.6 6,17.2 4,17.2\">\n",
      "<animate attributename=\"points\" begin=\"0s\" calcmode=\"spline\" dur=\"1.2s\" keysplines=\"0.18 0.01 0.37 0.99;0.18 0.01 0.37 0.99;0.18 0.01 0.37 0.99\" keytimes=\"0; 0.2; 0.6; 1\" repeatcount=\"indefinite\" values=\"4,3.9 6,3.9 6,8.6 6,17.2 4,17.2;4,10.6 6,10.6 6,12.9 6,17.2 4,17.2;4,6.4 6,6.4 6,10.2 6,17.2 4,17.2;4,3.9 6,3.9 6,8.6 6,17.2 4,17.2\"></animate>\n",
      "</polygon>\n",
      "<!-- / Indicator Bar 3 -->\n",
      "<polygon class=\"audio-indicator-bar\" points=\"8,7 10,7 10,8.3 10,17.2 8,17.2\">\n",
      "<animate attributename=\"points\" begin=\"0s\" calcmode=\"spline\" dur=\"1.2s\" keysplines=\"0.18 0.01 0.37 0.99;0.18 0.01 0.37 0.99;0.18 0.01 0.37 0.99\" keytimes=\"0; 0.3; 0.5; 1\" repeatcount=\"indefinite\" values=\"8,7 10,7 10,8.3 10,17.2 8,17.2;8,13.9 10,13.9 10,14.3 10,17.2 8,17.2;8,0 10,0 10,2.3 10,17.2 8,17.2;8,7 10,7 10,8.3 10,17.2 8,17.2\"></animate>\n",
      "</polygon>\n",
      "<!-- / Indicator Bar 4 -->\n",
      "<polygon class=\"audio-indicator-bar\" points=\"12,0 14,0 14,4.3 14,17.2 12,17.2\">\n",
      "<animate attributename=\"points\" begin=\"0s\" calcmode=\"spline\" dur=\"1.2s\" keysplines=\"0.18 0.01 0.37 0.99;0.18 0.01 0.37 0.99;0.18 0.01 0.37 0.99\" keytimes=\"0; 0.3; 0.9; 1\" repeatcount=\"indefinite\" values=\"12,0 14,0 14,4.3 14,17.2 12,17.2;12,6.1 14,6.1 14,8.9 14,17.2 12,17.2;12,10.6 14,10.6 14,12.2 14,17.2 12,17.2;12,0 14,0 14,4.3 14,17.2 12,17.2\"></animate>\n",
      "</polygon>\n",
      "<!-- / Indicator Bar 5 -->\n",
      "<polygon class=\"audio-indicator-bar\" points=\"16,1.9 18,1.9 18,3.9 18,17.2 16,17.2\">\n",
      "<animate attributename=\"points\" begin=\"0s\" calcmode=\"spline\" dur=\"1.2s\" keysplines=\"0.18 0.01 0.37 0.99;0.18 0.01 0.37 0.99;0.18 0.01 0.37 0.99\" keytimes=\"0; 0.4; 0.6; 1\" repeatcount=\"indefinite\" values=\"16,1.9 18,1.9 18,3.9 18,17.2 16,17.2;16,8.6 18,8.6 18,9.7 18,17.2 16,17.2;16,16.6 18,16.6 18,9.7 18,17.2 16,17.2;16,1.9 18,1.9 18,3.9 18,17.2 16,17.2\"></animate>\n",
      "</polygon>\n",
      "</g>\n",
      "</svg>\n",
      "</div>\n",
      "</div>\n",
      "<div class=\"reset-video__label\">\n",
      "音ありでリプレイ\n",
      "</div>\n",
      "</div>\n",
      "<div class=\"rewind-video js-reset-video-once\">\n",
      "<div class=\"rewind-video__wrapper absolute-center\">\n",
      "<div class=\"rewind-video__inner\">\n",
      "<div class=\"rewind-video__button\">\n",
      "<div class=\"rewind-video__button_inner\">\n",
      "<div class=\"rewind-video__icon\"></div>\n",
      "<div class=\"rewind-video__label\">\n",
      "音声ありで <br/> 再生\n",
      "</div>\n",
      "</div>\n",
      "</div>\n",
      "</div>\n",
      "</div>\n",
      "</div>\n",
      "<div class=\"player_controls absolute-bottom mb3 radius2px white bg-green-dark forces-video-controls_hide\">\n",
      "<div class=\"left full-height\">\n",
      "<button class=\"flex btn btn--with-svg btn--dark-green left playpause play mr2 ml0 full-height keyboard-focusable\">\n",
      "<svg aria-hidden=\"true\" class=\"svg-icon__play\"><use xlink:href=\"#play\"></use></svg>\n",
      "<svg aria-hidden=\"true\" class=\"svg-icon__pause\"><use xlink:href=\"#pause\"></use></svg>\n",
      "</button>\n",
      "<time class=\"time current_time left video-time--current\">00:00</time>\n",
      "</div>\n",
      "<div class=\"right full-height\">\n",
      "<time class=\"time total_time left mr2 video-time--total\">00:00</time>\n",
      "<button class=\"m0 left button button_icon button_icon_white volume full-height keyboard-focusable\">\n",
      "<span class=\"ss-icon ss-volume icon_volume_nudge\"></span>\n",
      "<span class=\"ss-icon ss-highvolume\"></span>\n",
      "</button>\n",
      "<div class=\"volume_container left\">\n",
      "<div class=\"progress_bar progress_bar_dark progress_bg\">\n",
      "<div class=\"progress_bar_bg\"></div>\n",
      "<div class=\"progress progress_bar_progress\"></div>\n",
      "<div aria-label=\"Volume\" class=\"progress_handle progress_bar_handle keyboard-focusable\" role=\"slider\" tabindex=\"0\"></div>\n",
      "</div>\n",
      "</div>\n",
      "<button aria-label=\"Fullscreen\" class=\"m0 left button button_icon button_icon_white fullscreen full-height keyboard-focusable\">\n",
      "<span class=\"ss-icon ss-expand\"></span>\n",
      "<span class=\"ss-icon ss-delete\"></span>\n",
      "</button>\n",
      "</div>\n",
      "<div class=\"clip\">\n",
      "<div class=\"progress_container pr2 pl2\">\n",
      "<div class=\"progress_bar progress_bar_dark progress_bg\">\n",
      "<div class=\"progress_bar_bg\"></div>\n",
      "<div class=\"buffer progress_bar_buffer\"></div>\n",
      "<div class=\"progress progress_bar_progress\"></div>\n",
      "<div aria-label=\"Played\" class=\"progress_handle progress_bar_handle keyboard-focusable\" role=\"slider\" tabindex=\"0\"></div>\n",
      "</div>\n",
      "</div>\n",
      "</div>\n",
      "<div class=\"clear\"></div>\n",
      "</div>\n",
      "</div>\n",
      "</figure>\n",
      "</div>\n",
      "<p>We want to bring aquaponics into every home. In order to reach this goal, we needed to create a system that is very simple, complete,  and much more compact and affordable than existing complete systems. Most aquaponics kits available today focus on either the fish or the garden. Most don't include lights, and if they do, these lights tend to be woefully inadequate or if adequate offered in very expensive, expansive systems. As electrical engineers and physicists, understanding lighting is one of our strengths. As consumers we understand that most homes do not have space for a large aquaponic system.  The Aquakit is designed to be a complete system that is compact and very easy to set up. You do not have to figure out what kind of light to purchase as we have designed a complete LED lighting system that is energy efficient and targets the exact wavelengths that are utilized by terrestrial plants. And you do not have to sacrifice a large amount of living space to accommodate an expensive Cadillac, aquaponic system. </p><div class=\"template asset\" contenteditable=\"false\" data-alt-text=\"Production design mockup\" data-caption=\"Production design mockup\" data-id=\"_xxx_\">\n",
      "<figure>\n",
      "<img alt=\"Production design mockup\" class=\"fit lazyload\" data-src=\"http://dummy.com\"/>\n",
      "<figcaption class=\"px2\">Production design mockup</figcaption>\n",
      "</figure>\n",
      "</div>\n",
      "<p>We chose not to include a 10 gallon tank because these are readily available and typically cost between $10-$15 at your local pet store. All of the other major components are included with every Aquakit. The only choosing you need to do is what you want to grow and keep. The Aquakit makes it easy for you to construct a 10 gallon system that will quickly become the centerpiece of your home. We look forward to seeing what you create!</p></div></div>\n"
     ]
    }
   ],
   "source": [
    "html_0 = train.html_content[2]\n",
    "print(html_0)"
   ]
  },
  {
   "cell_type": "code",
   "execution_count": 53,
   "metadata": {},
   "outputs": [
    {
     "name": "stdout",
     "output_type": "stream",
     "text": [
      " As our society begins to wake up from the hangover of unconscionable waste, we need to turn to the model of nature and learn how to conserve and reuse our resources. Instead of throwing chemicals into a sterile system, aquaponics creates a harmonious cycle that saves water, energy and waste that can serve as a centerpiece to your room as a living reminder to the responsibility we have to future generations while at the same time providing food and keeping your pets healthy,happy and beautiful.   Our website: www.hnuqiponics.com\n",
      "\n",
      "\n",
      "Prototype generation 5 complete system\n",
      "\n",
      "\n",
      " \n",
      "\n",
      "\n",
      "\n",
      "assembled prototype 5 system\n",
      "\n",
      "\n",
      "Have you ever wanted to keep fish but the constant maintenance and cleaning scares you off? Do you enjoy fresh herbs when you cook but haven't been able to successfully keep a fresh herb garden? Do you live in a climate where the growing season is very short? Have you ever wanted to keep some exotic flowering plants but found the care to be overwhelming? What if there was a system that would allow you to raise fish and plants with little maintenance and without an advanced degree in biology? The Aquakit creates a balanced environment that allows both plants and animals to flourish while taking away all of the work of daily maintenance.\n",
      "\n",
      "\n",
      "Raising difficult tropical flowers like orchids is easy\n",
      "\n",
      "\n",
      "We are not the first company to offer an aquaponics system for home use. We applaud all efforts in this field and support all participants who understand that aquaponics is very much the future of our food production. We cannot sustain the current model of wasting water and over nutrifying our waterways. \n",
      "\n",
      "\n",
      "\n",
      "\n",
      "\n",
      "このコンテンツを表示するにはHTML5対応のブラウザが必要です。\n",
      "\n",
      "\n",
      "\n",
      "\n",
      "\n",
      "動画を再生\n",
      "\n",
      "\n",
      "\n",
      "\n",
      "\n",
      "\n",
      "\n",
      "\n",
      "\n",
      "\n",
      "\n",
      "\n",
      "\n",
      "\n",
      "\n",
      "\n",
      "\n",
      "\n",
      "\n",
      "\n",
      "\n",
      "\n",
      "\n",
      "\n",
      "\n",
      "\n",
      "\n",
      "\n",
      "\n",
      "\n",
      "\n",
      "\n",
      "\n",
      "音ありでリプレイ\n",
      "\n",
      "\n",
      "\n",
      "\n",
      "\n",
      "\n",
      "\n",
      "\n",
      "\n",
      "音声ありで  再生\n",
      "\n",
      "\n",
      "\n",
      "\n",
      "\n",
      "\n",
      "\n",
      "\n",
      "\n",
      "\n",
      "\n",
      "\n",
      "00:00\n",
      "\n",
      "\n",
      "00:00\n",
      "\n",
      "\n",
      "\n",
      "\n",
      "\n",
      "\n",
      "\n",
      "\n",
      "\n",
      "\n",
      "\n",
      "\n",
      "\n",
      "\n",
      "\n",
      "\n",
      "\n",
      "\n",
      "\n",
      "\n",
      "\n",
      "\n",
      "\n",
      "\n",
      "\n",
      "\n",
      "\n",
      "\n",
      "\n",
      "\n",
      "\n",
      "We want to bring aquaponics into every home. In order to reach this goal, we needed to create a system that is very simple, complete,  and much more compact and affordable than existing complete systems. Most aquaponics kits available today focus on either the fish or the garden. Most don't include lights, and if they do, these lights tend to be woefully inadequate or if adequate offered in very expensive, expansive systems. As electrical engineers and physicists, understanding lighting is one of our strengths. As consumers we understand that most homes do not have space for a large aquaponic system.  The Aquakit is designed to be a complete system that is compact and very easy to set up. You do not have to figure out what kind of light to purchase as we have designed a complete LED lighting system that is energy efficient and targets the exact wavelengths that are utilized by terrestrial plants. And you do not have to sacrifice a large amount of living space to accommodate an expensive Cadillac, aquaponic system. \n",
      "\n",
      "\n",
      "Production design mockup\n",
      "\n",
      "\n",
      "We chose not to include a 10 gallon tank because these are readily available and typically cost between $10-$15 at your local pet store. All of the other major components are included with every Aquakit. The only choosing you need to do is what you want to grow and keep. The Aquakit makes it easy for you to construct a 10 gallon system that will quickly become the centerpiece of your home. We look forward to seeing what you create!\n"
     ]
    }
   ],
   "source": [
    "raw = BeautifulSoup(html_0).get_text()\n",
    "print(raw)"
   ]
  },
  {
   "cell_type": "code",
   "execution_count": 62,
   "metadata": {},
   "outputs": [],
   "source": [
    "def remove_nl_tag(raw_text):\n",
    "    raw_text = raw_text.replace(u\"\\n\", u\"\")\n",
    "    return raw_text"
   ]
  },
  {
   "cell_type": "code",
   "execution_count": 66,
   "metadata": {},
   "outputs": [],
   "source": [
    "def remove_nobreak_space(raw_text):\n",
    "    raw_text = raw_text.replace(u'\\xa0', u' ')\n",
    "    return raw_text"
   ]
  },
  {
   "cell_type": "code",
   "execution_count": 64,
   "metadata": {},
   "outputs": [
    {
     "name": "stdout",
     "output_type": "stream",
     "text": [
      " As our society begins to wake up from the hangover of unconscionable waste, we need to turn to the model of nature and learn how to conserve and reuse our resources. Instead of throwing chemicals into a sterile system, aquaponics creates a harmonious cycle that saves water, energy and waste that can serve as a centerpiece to your room as a living reminder to the responsibility we have to future generations while at the same time providing food and keeping your pets healthy,happy and beautiful.   Our website: www.hnuqiponics.comPrototype generation 5 complete system assembled prototype 5 systemHave you ever wanted to keep fish but the constant maintenance and cleaning scares you off? Do you enjoy fresh herbs when you cook but haven't been able to successfully keep a fresh herb garden? Do you live in a climate where the growing season is very short? Have you ever wanted to keep some exotic flowering plants but found the care to be overwhelming? What if there was a system that would allow you to raise fish and plants with little maintenance and without an advanced degree in biology? The Aquakit creates a balanced environment that allows both plants and animals to flourish while taking away all of the work of daily maintenance.Raising difficult tropical flowers like orchids is easyWe are not the first company to offer an aquaponics system for home use. We applaud all efforts in this field and support all participants who understand that aquaponics is very much the future of our food production. We cannot sustain the current model of wasting water and over nutrifying our waterways. このコンテンツを表示するにはHTML5対応のブラウザが必要です。動画を再生音ありでリプレイ音声ありで  再生00:0000:00We want to bring aquaponics into every home. In order to reach this goal, we needed to create a system that is very simple, complete,  and much more compact and affordable than existing complete systems. Most aquaponics kits available today focus on either the fish or the garden. Most don't include lights, and if they do, these lights tend to be woefully inadequate or if adequate offered in very expensive, expansive systems. As electrical engineers and physicists, understanding lighting is one of our strengths. As consumers we understand that most homes do not have space for a large aquaponic system.  The Aquakit is designed to be a complete system that is compact and very easy to set up. You do not have to figure out what kind of light to purchase as we have designed a complete LED lighting system that is energy efficient and targets the exact wavelengths that are utilized by terrestrial plants. And you do not have to sacrifice a large amount of living space to accommodate an expensive Cadillac, aquaponic system. Production design mockupWe chose not to include a 10 gallon tank because these are readily available and typically cost between $10-$15 at your local pet store. All of the other major components are included with every Aquakit. The only choosing you need to do is what you want to grow and keep. The Aquakit makes it easy for you to construct a 10 gallon system that will quickly become the centerpiece of your home. We look forward to seeing what you create!\n"
     ]
    }
   ],
   "source": [
    "raw_1= remove_nl_tag(raw)\n",
    "print(raw_1)"
   ]
  },
  {
   "cell_type": "code",
   "execution_count": 16,
   "metadata": {},
   "outputs": [],
   "source": [
    "text = raw"
   ]
  },
  {
   "cell_type": "code",
   "execution_count": 18,
   "metadata": {},
   "outputs": [
    {
     "name": "stderr",
     "output_type": "stream",
     "text": [
      "Token indices sequence length is longer than the specified maximum sequence length for this model (563 > 512). Running this sequence through the model will result in indexing errors\n"
     ]
    }
   ],
   "source": [
    "from transformers import BertTokenizer, BertForSequenceClassification\n",
    "bert_tokenizer = BertTokenizer.from_pretrained(\"bert-base-uncased\")\n",
    "\n",
    "token = bert_tokenizer.encode_plus(\n",
    "                        text,                       # Sentence to encode.\n",
    "                        add_special_tokens = True,  # Add '[CLS]' and '[SEP]'\n",
    "                        max_length = None,  # Pad & truncate all sentences.\n",
    "                        pad_to_max_length = True,\n",
    "                        return_attention_mask = True,  # Construct attn. masks.\n",
    "                   )\n",
    "\n",
    "ids = token['input_ids']\n",
    "mask = token['attention_mask']"
   ]
  },
  {
   "cell_type": "code",
   "execution_count": 22,
   "metadata": {},
   "outputs": [
    {
     "data": {
      "text/plain": [
       "563"
      ]
     },
     "execution_count": 22,
     "metadata": {},
     "output_type": "execute_result"
    }
   ],
   "source": [
    "len(ids)"
   ]
  },
  {
   "cell_type": "code",
   "execution_count": 23,
   "metadata": {},
   "outputs": [],
   "source": [
    "def check_length_with_berttokenizer(bert_tokenizer, text):\n",
    "    token = bert_tokenizer.encode_plus(\n",
    "                            text,                       # Sentence to encode.\n",
    "                            add_special_tokens = True,  # Add '[CLS]' and '[SEP]'\n",
    "                            max_length = None,  # Pad & truncate all sentences.\n",
    "                            pad_to_max_length = True,\n",
    "                            return_attention_mask = True,  # Construct attn. masks.\n",
    "                       )\n",
    "    ids = token['input_ids']\n",
    "    return len(ids)"
   ]
  },
  {
   "cell_type": "code",
   "execution_count": 38,
   "metadata": {},
   "outputs": [
    {
     "name": "stderr",
     "output_type": "stream",
     "text": [
      "0it [00:00, ?it/s]/Applications/anaconda3/lib/python3.8/site-packages/transformers/tokenization_utils_base.py:1938: FutureWarning: The `pad_to_max_length` argument is deprecated and will be removed in a future version, use `padding=True` or `padding='longest'` to pad to the longest sequence in the batch, or use `padding='max_length'` to pad to a max length. In this case, you can give a specific length with `max_length` (e.g. `max_length=45`) or leave max_length to None to pad to the maximal input size of the model (e.g. 512 for Bert).\n",
      "  warnings.warn(\n",
      "10545it [02:14, 78.56it/s] "
     ]
    },
    {
     "name": "stdout",
     "output_type": "stream",
     "text": [
      "8176\n"
     ]
    },
    {
     "name": "stderr",
     "output_type": "stream",
     "text": [
      "\n"
     ]
    }
   ],
   "source": [
    "lengths = []\n",
    "for i, html in tqdm(enumerate(train.html_content)):\n",
    "    text = BeautifulSoup(html).get_text()\n",
    "    length = check_length_with_berttokenizer(bert_tokenizer, text)\n",
    "    lengths.append(length)\n",
    "print(max(lengths))"
   ]
  },
  {
   "cell_type": "code",
   "execution_count": 43,
   "metadata": {},
   "outputs": [
    {
     "data": {
      "text/plain": [
       "[<matplotlib.lines.Line2D at 0x7faa102b1fa0>]"
      ]
     },
     "execution_count": 43,
     "metadata": {},
     "output_type": "execute_result"
    },
    {
     "data": {
      "image/png": "[encoded data removed]",
      "text/plain": [
       "<Figure size 432x288 with 1 Axes>"
      ]
     },
     "metadata": {
      "needs_background": "light"
     },
     "output_type": "display_data"
    }
   ],
   "source": [
    "plt.figure()\n",
    "plt.plot(sorted(lengths))"
   ]
  },
  {
   "cell_type": "code",
   "execution_count": 33,
   "metadata": {},
   "outputs": [],
   "source": [
    "def count_number_of_figure(html_text):\n",
    "    count_fig = html_text.count(\"<figure>\")\n",
    "    count_fig_end = html_text.count(\"</figure>\")\n",
    "    if not count_fig == count_fig_end:\n",
    "        return None\n",
    "    return count_fig"
   ]
  },
  {
   "cell_type": "code",
   "execution_count": 34,
   "metadata": {},
   "outputs": [
    {
     "data": {
      "text/plain": [
       "15"
      ]
     },
     "execution_count": 34,
     "metadata": {},
     "output_type": "execute_result"
    }
   ],
   "source": [
    "count_number_of_figure(html_0)"
   ]
  },
  {
   "cell_type": "code",
   "execution_count": 51,
   "metadata": {},
   "outputs": [],
   "source": [
    "def count_number_of_video(html_text):\n",
    "    #count_fig = html_text.count(\"<video>\")\n",
    "    count_video_end = html_text.count(\"</video>\")\n",
    "    #if not count_fig == count_fig_end:\n",
    "     #   return None\n",
    "    return count_video_end"
   ]
  },
  {
   "cell_type": "code",
   "execution_count": 52,
   "metadata": {},
   "outputs": [
    {
     "name": "stdout",
     "output_type": "stream",
     "text": [
      "1\n"
     ]
    }
   ],
   "source": [
    "html_2 = train.html_content[2]\n",
    "n = count_number_of_video(html_2)\n",
    "print(n)"
   ]
  },
  {
   "cell_type": "code",
   "execution_count": 154,
   "metadata": {},
   "outputs": [],
   "source": [
    "def extract_each_paragraphs(html_text):\n",
    "    paragraphs = []\n",
    "    para_list = html_text.split(\"<p>\")\n",
    "    if not \"<p>\" in html_text[0:4]:\n",
    "        para_list = para_list[1:]\n",
    "    for para in para_list:\n",
    "        if \"</p>\" in para:\n",
    "            para_new = para.split(\"</p>\")[0]\n",
    "        else:\n",
    "            para_new = \"\"\n",
    "            \n",
    "        #それでも残っているhtmlタグを取り除く(要らないかも)\n",
    "        para_new = BeautifulSoup(para_new).get_text()\n",
    "        #para_new = remove_nobreak_space(para_new)\n",
    "        \n",
    "        paragraphs.append(para_new)\n",
    "    try:\n",
    "        paragraphs.remove(\"\")\n",
    "    except:\n",
    "        pass\n",
    "    try:\n",
    "        paragraphs.remove(\" \")\n",
    "    except:\n",
    "        pass\n",
    "    try:\n",
    "        paragraphs.remove(u\"\\xa0\")\n",
    "    except:\n",
    "        pass\n",
    "    \n",
    "    return paragraphs"
   ]
  },
  {
   "cell_type": "code",
   "execution_count": 136,
   "metadata": {},
   "outputs": [
    {
     "name": "stdout",
     "output_type": "stream",
     "text": [
      " As our society begins to wake up from the hangover of unconscionable waste, we need to turn to the model of nature and learn how to conserve and reuse our resources. Instead of throwing chemicals into a sterile system, aquaponics creates a harmonious cycle that saves water, energy and waste that can serve as a centerpiece to your room as a living reminder to the responsibility we have to future generations while at the same time providing food and keeping your pets healthy,happy and beautiful.   \n",
      "Our website: www.hnuqiponics.com\n",
      "Have you ever wanted to keep fish but the constant maintenance and cleaning scares you off? Do you enjoy fresh herbs when you cook but haven't been able to successfully keep a fresh herb garden? Do you live in a climate where the growing season is very short? Have you ever wanted to keep some exotic flowering plants but found the care to be overwhelming? What if there was a system that would allow you to raise fish and plants with little maintenance and without an advanced degree in biology? The Aquakit creates a balanced environment that allows both plants and animals to flourish while taking away all of the work of daily maintenance.\n",
      "We are not the first company to offer an aquaponics system for home use. We applaud all efforts in this field and support all participants who understand that aquaponics is very much the future of our food production. We cannot sustain the current model of wasting water and over nutrifying our waterways. \n",
      "We want to bring aquaponics into every home. In order to reach this goal, we needed to create a system that is very simple, complete,  and much more compact and affordable than existing complete systems. Most aquaponics kits available today focus on either the fish or the garden. Most don't include lights, and if they do, these lights tend to be woefully inadequate or if adequate offered in very expensive, expansive systems. As electrical engineers and physicists, understanding lighting is one of our strengths. As consumers we understand that most homes do not have space for a large aquaponic system.  The Aquakit is designed to be a complete system that is compact and very easy to set up. You do not have to figure out what kind of light to purchase as we have designed a complete LED lighting system that is energy efficient and targets the exact wavelengths that are utilized by terrestrial plants. And you do not have to sacrifice a large amount of living space to accommodate an expensive Cadillac, aquaponic system. \n",
      "We chose not to include a 10 gallon tank because these are readily available and typically cost between $10-$15 at your local pet store. All of the other major components are included with every Aquakit. The only choosing you need to do is what you want to grow and keep. The Aquakit makes it easy for you to construct a 10 gallon system that will quickly become the centerpiece of your home. We look forward to seeing what you create!\n"
     ]
    }
   ],
   "source": [
    "para_lis = extract_each_paragraphs(html_0)\n",
    "for para in para_lis:\n",
    "    print(para)"
   ]
  },
  {
   "cell_type": "code",
   "execution_count": 98,
   "metadata": {},
   "outputs": [],
   "source": [
    "class HtmlDataset(Dataset):\n",
    "    def __init__(self, csv_file, transform=None):\n",
    "        self.csv_file = csv_file\n",
    "        self.transform = transform\n",
    "        \n",
    "    \n",
    "    def __len__(self):\n",
    "        return len(self.csv_file)\n",
    "    \n",
    "    \n",
    "    def __getitem__(self, idx):\n",
    "        if torch.is_tensor(idx):\n",
    "            idx = idx.tolist()\n",
    "        \n",
    "        html_text = self.csv_file.html_content.iloc[idx]\n",
    "        try:\n",
    "            label = self.csv_file.state.iloc[idx]\n",
    "        except:\n",
    "            label = self.csv_file.id.iloc[idx]\n",
    "            \n",
    "        if self.transform:\n",
    "            text = self.transform(html_text)\n",
    "            \n",
    "        return html_text, label"
   ]
  },
  {
   "cell_type": "code",
   "execution_count": 100,
   "metadata": {},
   "outputs": [],
   "source": [
    "train_dataset = HtmlDataset(train)"
   ]
  },
  {
   "cell_type": "code",
   "execution_count": 155,
   "metadata": {},
   "outputs": [
    {
     "name": "stdout",
     "output_type": "stream",
     "text": [
      "<div class=\"contents\"><div><p>\"Streetball is usually only about such things as no-look passes, behind-the-back dribbles and rim-rocking dunks.\"</p><p>But we made it about something more by organizing the second Iris Fazio Memorial Tournament on Saturday August 9th. Paying tribute to my  grandmother who passed away eight years ago and helping spread the love of basketball in her community. </p><p>The tournament will be comprised of approximately 60 players from Riverdale and Kingsbridge, divided into eight teams. It will be held at the Spuyten Duyvil Playground basketball courts on West 236th Street.</p><p>In an effort to show sportsmanship, teamwork, and the excitement of sports, I hope to create an event that the community can count on bringing core values to our city youth.</p><p>I got quotes from all vendors for jerseys, trophies, equipment, refs, and a videographer. The total comes to around $1,700. This is the bare bones budget needed for this tournament to be realized this year.</p><p><span class=\"bold\">Budget:</span></p><ul>\n",
      "<li>Jerseys- $700 </li>\n",
      "<li>Refs-$400</li>\n",
      "<li>Coolers/tables/chairs rentals-$100</li>\n",
      "<li>Trophies- $500 </li>\n",
      "</ul><ul><li>videographer-$75<br/>\n",
      "</li></ul><h1 class=\"page-anchor\" id=\"_xxx_\">\n",
      "Total Expenses: $1,775 </h1><p><a href=\"http://dummy.com\">http://dummy.com</div>\n",
      "\n",
      "\n",
      "\"Streetball is usually only about such things as no-look passes, behind-the-back dribbles and rim-rocking dunks.\"But we made it about something more by organizing the second Iris Fazio Memorial Tournament on Saturday August 9th. Paying tribute to my  grandmother who passed away eight years ago and helping spread the love of basketball in her community. The tournament will be comprised of approximately 60 players from Riverdale and Kingsbridge, divided into eight teams. It will be held at the Spuyten Duyvil Playground basketball courts on West 236th Street.In an effort to show sportsmanship, teamwork, and the excitement of sports, I hope to create an event that the community can count on bringing core values to our city youth.I got quotes from all vendors for jerseys, trophies, equipment, refs, and a videographer. The total comes to around $1,700. This is the bare bones budget needed for this tournament to be realized this year.Budget:\n",
      "Jerseys- $700 \n",
      "Refs-$400\n",
      "Coolers/tables/chairs rentals-$100\n",
      "Trophies- $500 \n",
      "videographer-$75\n",
      "\n",
      "Total Expenses: $1,775 http://dummy.com\n",
      "\n",
      "\n",
      "\"Streetball is usually only about such things as no-look passes, behind-the-back dribbles and rim-rocking dunks.\" But we made it about something more by organizing the second Iris Fazio Memorial Tournament on Saturday August 9th. Paying tribute to my  grandmother who passed away eight years ago and helping spread the love of basketball in her community.  The tournament will be comprised of approximately 60 players from Riverdale and Kingsbridge, divided into eight teams. It will be held at the Spuyten Duyvil Playground basketball courts on West 236th Street. In an effort to show sportsmanship, teamwork, and the excitement of sports, I hope to create an event that the community can count on bringing core values to our city youth. I got quotes from all vendors for jerseys, trophies, equipment, refs, and a videographer. The total comes to around $1,700. This is the bare bones budget needed for this tournament to be realized this year. Budget:\n"
     ]
    }
   ],
   "source": [
    "print(train_dataset[14][0])\n",
    "print(\"\\n\")\n",
    "print(BeautifulSoup(train_dataset[14][0]).get_text())\n",
    "print(\"\\n\")\n",
    "print(\" \".join(extract_each_paragraphs(train_dataset[14][0])))"
   ]
  },
  {
   "cell_type": "code",
   "execution_count": 110,
   "metadata": {},
   "outputs": [
    {
     "name": "stdout",
     "output_type": "stream",
     "text": [
      "We all love to play, don't we! No matter the age... :) And we are also the techie generation for the STEM basics. (Psst... Its alright if you are new to this, you can still read the story ahead). So, we at SB Components came out with a concept where we decided to give the pleasure of both programming and playing, together. After all:We wanted to design and develop something that can help any one (technical or non-technical) explore their vision of creating something cool while on the play! And this was made even better by introducing the popular micro-controller BBC micro:bit board.For those new to the micro:bit community, here is a short summary of \"What micro:bit is all about\" and what this tiny board is capable of. This time, we wanted to explore our ideas for the micro:bit (unlike our other campaigns). The micro:bit was the most recent project by the BBC in an effort to bring computer science education and STEM topics to every student worldwide. It is now so popular that every maker community has it and there are numerous projects and campaigns designed and developed for the micro:bit exclusively.So this video here, by the BBC micro:bit tells us about its popularity. You can code, customize, and control the micro:bit from anywhere! Listed below are few of its in-built features.The micro:bit can be used for all sorts of unique creations, from robots to musical instruments and more. And this time, it could be more fun because we have integrated the \"fun and learn\" concept.We present to you the Stem:Bit! An easy to assemble and play with blocks kit for micro:bit. Yes, you heard it right, a programmable blocks kit.As the name suggests, it is compiled using 2 different yet the widely used terms, \"Stem\" from the STEM Education society and \"Bit\" from the micro:bit community. It basically focuses on indulging every kid and/or the techie to play and have fun along with learning to program. It gives a boost at learning the programming with micro:bit and playing along.In other simple words, with Stem:Bit kids can utilize micro:bit to fully realize their ideas and truly unlock their imagination while on the play.The kit is actually a programmable blocks kit that has more than 260 building blocks! Its core is the micro:bit and the micro:bit Stem Board.The Stem board is a specially designed expansion board that is used for programming different movements, structures, sensors etc using the micro:bit.Stem:Bit is an easy to assemble and design codes about learning how to program the moves of different structures using the micro:bit. Using Stem:Bit you will learn programming, electronics, robotics and many more.The easy assembling of the blocks to form many structures. and it is made even more easy with the help of an assembly manual that comes with the kit.We have designed this project manual book (approximately 200-300 pages) especially for the children so that they can learn to make different applications using Stem:Bit giving them the scope to improvise and enhance their vision of programming and learning.2 High-Power RGB colorful searchlights3 SMD RGB programming lightsDrive three 5V servos, easy to play with robots Drive two 3V DC motors, easily experiment with small fans/smart cars Buzzer can be programmed to play various songs and music Powered by 500mAh high-capacity lithium battery Charging via a USB cable Multiple protection circuits: over-discharge protection, over-charge protection, and reverse-connection protectionExpansion board integrates an infrared ranging pair tube, a high-precision tracking probe, and an ultrasonic module interfaceTransform the entire expansion board into a smart car chassis for a micro:bit smart car Three kinds of communication interfaces: IIC, SPI, serial  communication, easy to expand PS2 controller, Bluetooth module and other external devices. Gentle warning..! You may end up having endless fun!After all, there is a lot to do when you have a huge collection of the block to compile together.To quote a few names, find the examples below about a few structures that you can build with the Stem:Bit.This will help you to learn Infra-Red sensors and it let you program the very famous             Line-Following Robot. You can also make complex lines and program the IR car to solve line puzzles.このコンテンツを表示するにはHTML5対応のブラウザが必要です。動画を再生音ありでリプレイ音声ありで  再生00:0000:00 Play and program with the 4x4 concept of the 4x4 car. このコンテンツを表示するにはHTML5対応のブラウザが必要です。動画を再生音ありでリプレイ音声ありで  再生00:0000:00Love the tall building equipment? Learn how they work with this structure  このコンテンツを表示するにはHTML5対応のブラウザが必要です。動画を再生音ありでリプレイ音声ありで  再生00:0000:00 Learn how a spider walks using the 6 legs. Enjoy it more when you control it with a joystick. このコンテンツを表示するにはHTML5対応のブラウザが必要です。動画を再生音ありでリプレイ音声ありで  再生00:0000:00Love the funky tuk tuk rides? Well then, ride one. ;) このコンテンツを表示するにはHTML5対応のブラウザが必要です。動画を再生音ありでリプレイ音声ありで  再生00:0000:00Learn the robotics basics using the love of the robots. このコンテンツを表示するにはHTML5対応のブラウザが必要です。動画を再生音ありでリプレイ音声ありで  再生00:0000:00 Relive the famous slingshot game using the technology. このコンテンツを表示するにはHTML5対応のブラウザが必要です。動画を再生音ありでリプレイ音声ありで  再生00:0000:00Tanks and military bots at your service. Nurture your desire to drive the heavy machines with these blocks programmed by you. このコンテンツを表示するにはHTML5対応のブラウザが必要です。動画を再生音ありでリプレイ音声ありで  再生00:0000:00Play the clipping machine game with the clipper robot. このコンテンツを表示するにはHTML5対応のブラウザが必要です。動画を再生音ありでリプレイ音声ありで  再生00:0000:00The biggest difference with this kit is that we have combined the electronic components with building blocks, and users can control them with micro:bit programming, such as infrared remote control, obstacle  avoidance, tracking, colorful lights and other functions. The building blocks are also compatible with LEGO, that if you are interested in building blocks and want to learn programming, this building block will be a good choice.  Additionally, you will learn the simple yet practical IoT theory, interfacing of different sensors, make robotic movements with the structures enhancing the robotics concepts.Learn controlling the robots using the wireless game pad.Stem:Bit building blocks kit provides multiple basic models. With a  wealth of circuit components, it can achieve many creative plays, such  as remote control tracked vehicles, magic lights robots, robotic arm towers and so on.  Building blocks and electronic modules are used to form a smart robot car, which can be programmed to avoid obstacles and track automatically.   With more than 260 building blocks, it  can form more shapes and be controlled by programming circuits.Stem:Bit programming building block kit can be expanded to other models with LEGO™ building block. Children can complete their own  work with a rich imagination.Since it is based on the BBC micro:bit, thus it supports a variety of programming methods, supporting the online graphical programming of Make Code Editor and Python programming. You can realize your program creativity on computer or mobile app.Since it is based on the BBC micro:bit, thus it supports a variety of programming methods, supporting the online graphical programming of MakeCode Editor and Python programming.Thank you for reading out our campaign. :)As a token of thanks, we'd like to stretch our rewards for the backers. A cool micro:bit pocket case with each Stem:Bit once we reach £25,000. Show us your love and get this cool case for free!  A game pad with each Stem:Bit once we reach £50,000. Show us your love and get this cool game pad for free! \n"
     ]
    }
   ],
   "source": [
    "raw = BeautifulSoup(train_dataset[4][0]).get_text()\n",
    "raw = remove_nl_tag(raw)\n",
    "print(raw)"
   ]
  },
  {
   "cell_type": "code",
   "execution_count": 124,
   "metadata": {},
   "outputs": [
    {
     "name": "stdout",
     "output_type": "stream",
     "text": [
      "We all love to play, don't we! No matter the age... :) And we are also the techie generation for the STEM basics. (Psst... Its alright if you are new to this, you can still read the story ahead). So, we at SB Components came out with a concept where we decided to give the pleasure of both programming and playing, together. After all:We wanted to design and develop something that can help any one (technical or non-technical) explore their vision of creating something cool while on the play! And this was made even better by introducing the popular micro-controller BBC micro:bit board.For those new to the micro:bit community, here is a short summary of \"What micro:bit is all about\" and what this tiny board is capable of. This time, we wanted to explore our ideas for the micro:bit (unlike our other campaigns). The micro:bit was the most recent project by the BBC in an effort to bring computer science education and STEM topics to every student worldwide. It is now so popular that every maker community has it and there are numerous projects and campaigns designed and developed for the micro:bit exclusively.So this video here, by the BBC micro:bit tells us about its popularity. You can code, customize, and control the micro:bit from anywhere! Listed below are few of its in-built features.The micro:bit can be used for all sorts of unique creations, from robots to musical instruments and more. And this time, it could be more fun because we have integrated the \"fun and learn\" concept.We present to you the Stem:Bit! An easy to assemble and play with blocks kit for micro:bit. Yes, you heard it right, a programmable blocks kit.As the name suggests, it is compiled using 2 different yet the widely used terms, \"Stem\" from the STEM Education society and \"Bit\" from the micro:bit community. It basically focuses on indulging every kid and/or the techie to play and have fun along with learning to program. It gives a boost at learning the programming with micro:bit and playing along.In other simple words, with Stem:Bit kids can utilize micro:bit to fully realize their ideas and truly unlock their imagination while on the play.The kit is actually a programmable blocks kit that has more than 260 building blocks! Its core is the micro:bit and the micro:bit Stem Board.The Stem board is a specially designed expansion board that is used for programming different movements, structures, sensors etc using the micro:bit.Stem:Bit is an easy to assemble and design codes about learning how to program the moves of different structures using the micro:bit. Using Stem:Bit you will learn programming, electronics, robotics and many more.The easy assembling of the blocks to form many structures. and it is made even more easy with the help of an assembly manual that comes with the kit.We have designed this project manual book (approximately 200-300 pages) especially for the children so that they can learn to make different applications using Stem:Bit giving them the scope to improvise and enhance their vision of programming and learning.Gentle warning..! You may end up having endless fun!After all, there is a lot to do when you have a huge collection of the block to compile together.To quote a few names, find the examples below about a few structures that you can build with the Stem:Bit.This will help you to learn Infra-Red sensors and it let you program the very famous             Line-Following Robot. You can also make complex lines and program the IR car to solve line puzzles. Play and program with the 4x4 concept of the 4x4 car. Love the tall building equipment? Learn how they work with this structure   Learn how a spider walks using the 6 legs. Enjoy it more when you control it with a joystick. Love the funky tuk tuk rides? Well then, ride one. ;) Learn the robotics basics using the love of the robots.  Relive the famous slingshot game using the technology. Tanks and military bots at your service. Nurture your desire to drive the heavy machines with these blocks programmed by you. Play the clipping machine game with the clipper robot. The biggest difference with this kit is that we have combined the electronic components with building blocks, and users can control them with micro:bit programming, such as infrared remote control, obstacle  avoidance, tracking, colorful lights and other functions. The building blocks are also compatible with LEGO, that if you are interested in building blocks and want to learn programming, this building block will be a good choice.  Additionally, you will learn the simple yet practical IoT theory, interfacing of different sensors, make robotic movements with the structures enhancing the robotics concepts.Learn controlling the robots using the wireless game pad.Stem:Bit building blocks kit provides multiple basic models. With a  wealth of circuit components, it can achieve many creative plays, such  as remote control tracked vehicles, magic lights robots, robotic arm towers and so on.  Building blocks and electronic modules are used to form a smart robot car, which can be programmed to avoid obstacles and track automatically.   With more than 260 building blocks, it  can form more shapes and be controlled by programming circuits.Stem:Bit programming building block kit can be expanded to other models with LEGO™ building block. Children can complete their own  work with a rich imagination.Since it is based on the BBC micro:bit, thus it supports a variety of programming methods, supporting the online graphical programming of Make Code Editor and Python programming. You can realize your program creativity on computer or mobile app.Since it is based on the BBC micro:bit, thus it supports a variety of programming methods, supporting the online graphical programming of MakeCode Editor and Python programming.Thank you for reading out our campaign. :)As a token of thanks, we'd like to stretch our rewards for the backers. A cool micro:bit pocket case with each Stem:Bit once we reach £25,000. Show us your love and get this cool case for free!  A game pad with each Stem:Bit once we reach £50,000. Show us your love and get this cool game pad for free! \n"
     ]
    }
   ],
   "source": [
    "para_lis = extract_each_paragraphs(train_dataset[4][0])\n",
    "raw = \"\"\n",
    "for para in para_lis:\n",
    "    para = remove_nl_tag(para)\n",
    "    para = remove_nobreak_space(para)\n",
    "    raw += para\n",
    "    \n",
    "print(raw)"
   ]
  },
  {
   "cell_type": "code",
   "execution_count": 125,
   "metadata": {},
   "outputs": [
    {
     "data": {
      "text/plain": [
       "'We all love to play, don\\'t we! No matter the age... :) And we are also the techie generation for the STEM basics. (Psst... Its alright if you are new to this, you can still read the story ahead). So, we at SB Components came out with a concept where we decided to give the pleasure of both programming and playing, together. After all:We wanted to design and develop something that can help any one (technical or non-technical) explore their vision of creating something cool while on the play! And this was made even better by introducing the popular micro-controller BBC micro:bit board.For those new to the micro:bit community, here is a short summary of \"What micro:bit is all about\" and what this tiny board is capable of. This time, we wanted to explore our ideas for the micro:bit (unlike our other campaigns). The micro:bit was the most recent project by the BBC in an effort to bring computer science education and STEM topics to every student worldwide. It is now so popular that every maker community has it and there are numerous projects and campaigns designed and developed for the micro:bit exclusively.So this video here, by the BBC micro:bit tells us about its popularity. You can code, customize, and control the micro:bit from anywhere! Listed below are few of its in-built features.The micro:bit can be used for all sorts of unique creations, from robots to musical instruments and more. And this time, it could be more fun because we have integrated the \"fun and learn\" concept.We present to you the Stem:Bit! An easy to assemble and play with blocks kit for micro:bit. Yes, you heard it right, a programmable blocks kit.As the name suggests, it is compiled using 2 different yet the widely used terms, \"Stem\" from the STEM Education society and \"Bit\" from the micro:bit community. It basically focuses on indulging every kid and/or the techie to play and have fun along with learning to program. It gives a boost at learning the programming with micro:bit and playing along.In other simple words, with Stem:Bit kids can utilize micro:bit to fully realize their ideas and truly unlock their imagination while on the play.The kit is actually a programmable blocks kit that has more than 260 building blocks! Its core is the micro:bit and the micro:bit Stem Board.The Stem board is a specially designed expansion board that is used for programming different movements, structures, sensors etc using the micro:bit.Stem:Bit is an easy to assemble and design codes about learning how to program the moves of different structures using the micro:bit. Using Stem:Bit you will learn programming, electronics, robotics and many more.The easy assembling of the blocks to form many structures. and it is made even more easy with the help of an assembly manual that comes with the kit.We have designed this project manual book (approximately 200-300 pages) especially for the children so that they can learn to make different applications using Stem:Bit giving them the scope to improvise and enhance their vision of programming and learning.Gentle warning..! You may end up having endless fun!After all, there is a lot to do when you have a huge collection of the block to compile together.To quote a few names, find the examples below about a few structures that you can build with the Stem:Bit.This will help you to learn Infra-Red sensors and it let you program the very famous             Line-Following Robot. You can also make complex lines and program the IR car to solve line puzzles. Play and program with the 4x4 concept of the 4x4 car. Love the tall building equipment? Learn how they work with this structure   Learn how a spider walks using the 6 legs. Enjoy it more when you control it with a joystick. Love the funky tuk tuk rides? Well then, ride one. ;) Learn the robotics basics using the love of the robots.  Relive the famous slingshot game using the technology. Tanks and military bots at your service. Nurture your desire to drive the heavy machines with these blocks programmed by you. Play the clipping machine game with the clipper robot. The biggest difference with this kit is that we have combined the electronic components with building blocks, and users can control them with micro:bit programming, such as infrared remote control, obstacle  avoidance, tracking, colorful lights and other functions. The building blocks are also compatible with LEGO, that if you are interested in building blocks and want to learn programming, this building block will be a good choice.  Additionally, you will learn the simple yet practical IoT theory, interfacing of different sensors, make robotic movements with the structures enhancing the robotics concepts.Learn controlling the robots using the wireless game pad.Stem:Bit building blocks kit provides multiple basic models. With a  wealth of circuit components, it can achieve many creative plays, such  as remote control tracked vehicles, magic lights robots, robotic arm towers and so on.  Building blocks and electronic modules are used to form a smart robot car, which can be programmed to avoid obstacles and track automatically.   With more than 260 building blocks, it  can form more shapes and be controlled by programming circuits.Stem:Bit programming building block kit can be expanded to other models with LEGO™ building block. Children can complete their own  work with a rich imagination.Since it is based on the BBC micro:bit, thus it supports a variety of programming methods, supporting the online graphical programming of Make Code Editor and Python programming. You can realize your program creativity on computer or mobile app.Since it is based on the BBC micro:bit, thus it supports a variety of programming methods, supporting the online graphical programming of MakeCode Editor and Python programming.Thank you for reading out our campaign. :)As a token of thanks, we\\'d like to stretch our rewards for the backers. A cool micro:bit pocket case with each Stem:Bit once we reach £25,000. Show us your love and get this cool case for free!  A game pad with each Stem:Bit once we reach £50,000. Show us your love and get this cool game pad for free! '"
      ]
     },
     "execution_count": 125,
     "metadata": {},
     "output_type": "execute_result"
    }
   ],
   "source": [
    "raw"
   ]
  },
  {
   "cell_type": "code",
   "execution_count": 126,
   "metadata": {},
   "outputs": [
    {
     "data": {
      "text/plain": [
       "\"\\n連続スペース\\u3000＞\\u3000一つのスペース\\nwe'd > we'd\\n\\nなど\\u3000正規化\\n\""
      ]
     },
     "execution_count": 126,
     "metadata": {},
     "output_type": "execute_result"
    }
   ],
   "source": [
    "\"\"\"\n",
    "連続スペース　＞　一つのスペース\n",
    "we\\'d > we'd\n",
    "\n",
    "など　正規化\n",
    "\"\"\""
   ]
  },
  {
   "cell_type": "code",
   "execution_count": null,
   "metadata": {},
   "outputs": [],
   "source": []
  }
 ],
 "metadata": {
  "kernelspec": {
   "display_name": "Python 3",
   "language": "python",
   "name": "python3"
  },
  "language_info": {
   "codemirror_mode": {
    "name": "ipython",
    "version": 3
   },
   "file_extension": ".py",
   "mimetype": "text/x-python",
   "name": "python",
   "nbconvert_exporter": "python",
   "pygments_lexer": "ipython3",
   "version": "3.8.3"
  }
 },
 "nbformat": 4,
 "nbformat_minor": 4
}
