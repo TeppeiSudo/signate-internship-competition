{
 "cells": [
  {
   "cell_type": "code",
   "execution_count": 1,
   "metadata": {},
   "outputs": [],
   "source": [
    "import pandas as pd\n",
    "from sklearn.decomposition import TruncatedSVD"
   ]
  },
  {
   "cell_type": "code",
   "execution_count": 2,
   "metadata": {},
   "outputs": [],
   "source": [
    "bert_embeded = pd.read_csv('data/BERT_embeded.csv')\n",
    "albert_embeded = pd.read_csv(\"data/ALBERT_embeded.csv\")\n",
    "roberta_embeded = pd.read_csv(\"data/ROBERTA_embeded.csv\")\n",
    "xlmroberta_embeded = pd.read_csv(\"data/XLMROBERTA_embeded.csv\")"
   ]
  },
  {
   "cell_type": "code",
   "execution_count": 6,
   "metadata": {},
   "outputs": [],
   "source": [
    "def apply_svd(bert_df, num_features_svd, model_name):\n",
    "    transformer = TruncatedSVD(n_components=num_features_svd)\n",
    "    matrix = transformer.fit_transform(bert_df.drop(\"id\", axis=1))\n",
    "    \n",
    "    columns = [f\"bert_svd_{dim}\" for dim in range(num_features_svd)]\n",
    "    feature_df = pd.DataFrame(matrix, columns=columns)\n",
    "    ids = [n for n in range(len(bert_df))]\n",
    "    feature_df[\"id\"] = ids\n",
    "    feature_df.to_csv(f\"data/{model_name}_svd{num_features_svd}.csv\", index=False)\n",
    "    return feature_df"
   ]
  },
  {
   "cell_type": "code",
   "execution_count": 7,
   "metadata": {},
   "outputs": [],
   "source": [
    "model_names = [\n",
    "    (bert_embeded, \"BERT\"),\n",
    "    (albert_embeded, \"ALBERT\"),\n",
    "    (roberta_embeded, \"ROBERTA\"),\n",
    "    (xlmroberta_embeded, \"XLMROBERTA\"),\n",
    "]\n",
    "\n",
    "\n",
    "\n",
    "for model, name in model_names:\n",
    "    bert_decomposition = apply_svd(model,\n",
    "                                      num_features_svd=256,\n",
    "                                      model_name=name)"
   ]
  },
  {
   "cell_type": "code",
   "execution_count": 5,
   "metadata": {},
   "outputs": [],
   "source": []
  },
  {
   "cell_type": "code",
   "execution_count": null,
   "metadata": {},
   "outputs": [],
   "source": []
  }
 ],
 "metadata": {
  "kernelspec": {
   "display_name": "Python 3",
   "language": "python",
   "name": "python3"
  },
  "language_info": {
   "codemirror_mode": {
    "name": "ipython",
    "version": 3
   },
   "file_extension": ".py",
   "mimetype": "text/x-python",
   "name": "python",
   "nbconvert_exporter": "python",
   "pygments_lexer": "ipython3",
   "version": "3.8.5"
  }
 },
 "nbformat": 4,
 "nbformat_minor": 4
}
