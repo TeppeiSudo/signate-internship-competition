{
 "cells": [
  {
   "cell_type": "code",
   "execution_count": 1,
   "metadata": {},
   "outputs": [],
   "source": [
    "import json\n",
    "import pandas as pd\n",
    "import numpy as np\n",
    "import matplotlib.pyplot as plt\n",
    "from sklearn.cluster import KMeans\n",
    "from sklearn.metrics import confusion_matrix, ConfusionMatrixDisplay"
   ]
  },
  {
   "cell_type": "code",
   "execution_count": 2,
   "metadata": {},
   "outputs": [],
   "source": [
    "all_new = pd.read_csv('data/feature_df.csv')\n",
    "wordvec_df = pd.read_csv('sub_notebook/data/wordvectorized_df.csv')\n",
    "bert_embeded = pd.read_csv('kaggle-notebook/data/bert_embeded.csv')\n",
    "#tfidf_1000 = pd.read_csv('data/tfidf_1000.csv')\n",
    "tfidf_svd_raw_64 = pd.read_csv(\"data/tfidf_svd_raw_64.csv\")\n",
    "#tfidf_svd_content_64 = pd.read_csv(\"data/tfidf_svd_content_64.csv\")\n",
    "#tfidf_svd_compiled_64 = pd.read_csv(\"data/tfidf_svd_compiled_64.csv\")\n",
    "mfw_df = pd.read_csv('data/mfw.csv')\n",
    "miw_df = pd.read_csv('data/miw.csv')"
   ]
  },
  {
   "cell_type": "code",
   "execution_count": 3,
   "metadata": {},
   "outputs": [],
   "source": [
    "all_new = pd.merge(all_new, bert_embeded, on=\"id\", how=\"outer\")\n",
    "all_new = pd.merge(all_new, tfidf_svd_raw_64, on=\"id\", how=\"outer\")\n",
    "all_new = pd.merge(all_new, wordvec_df, on=\"id\", how=\"outer\")\n",
    "all_new = pd.merge(all_new, miw_df, on=\"id\", how=\"outer\")\n",
    "all_new = pd.merge(all_new, mfw_df.drop([\"mfw\", \"sfw\"], axis=1), on=\"id\", how=\"outer\")"
   ]
  },
  {
   "cell_type": "code",
   "execution_count": 4,
   "metadata": {},
   "outputs": [],
   "source": [
    "test_data = all_new[all_new[\"data_type\"] == \"test\"]\n",
    "train_data = all_new[all_new[\"data_type\"] == \"train\"]"
   ]
  },
  {
   "cell_type": "code",
   "execution_count": 5,
   "metadata": {},
   "outputs": [],
   "source": [
    "with open(\"data/lgbm_config_svd64_raw.json\") as f:\n",
    "    optuna_config_dict = json.load(f)\n",
    "\n",
    "feature_cols = optuna_config_dict[\"selected_feature\"]"
   ]
  },
  {
   "cell_type": "code",
   "execution_count": 6,
   "metadata": {},
   "outputs": [],
   "source": [
    "all_kmeans = all_new.drop([\"id\", \"state\", \"data_type\"], axis=1)\n",
    "all_kmeans = all_kmeans[feature_cols]\n",
    "all_kmeans = all_kmeans.fillna(-1)"
   ]
  },
  {
   "cell_type": "code",
   "execution_count": 23,
   "metadata": {},
   "outputs": [
    {
     "name": "stderr",
     "output_type": "stream",
     "text": [
      "/home/teppei/anaconda3/lib/python3.8/site-packages/sklearn/cluster/_kmeans.py:932: FutureWarning: 'precompute_distances' was deprecated in version 0.23 and will be removed in 0.25. It has no effect\n",
      "  warnings.warn(\"'precompute_distances' was deprecated in version \"\n"
     ]
    }
   ],
   "source": [
    "n_clusters = 24\n",
    "\n",
    "cf_kmeans = KMeans(n_clusters=n_clusters, init='k-means++', n_init=10, max_iter=300,\n",
    "                   tol=0.0001,precompute_distances='auto', verbose=0,\n",
    "                   random_state=None, copy_x=True)\n",
    "\n",
    "preds = cf_kmeans.fit_predict(all_kmeans)"
   ]
  },
  {
   "cell_type": "code",
   "execution_count": 24,
   "metadata": {},
   "outputs": [],
   "source": [
    "all_kmeans[\"kmeans_group\"] = preds\n",
    "f_groups = all_kmeans[all_new[\"state\"] == 0][\"kmeans_group\"]\n",
    "t_groups = all_kmeans[all_new[\"state\"] == 1][\"kmeans_group\"]"
   ]
  },
  {
   "cell_type": "code",
   "execution_count": 25,
   "metadata": {},
   "outputs": [
    {
     "data": {
      "text/plain": [
       "'\\nfor group in all_kmeans[\"kmeans_group\"].unique():\\n    print(f\"state == 0: group{group}: {list(f_groups).count(group)}\")\\n    print(f\"state == 1: group{group}: {list(t_groups).count(group)}\")\\n'"
      ]
     },
     "execution_count": 25,
     "metadata": {},
     "output_type": "execute_result"
    },
    {
     "data": {
      "image/png": "[encoded data removed]",
      "text/plain": [
       "<Figure size 864x576 with 2 Axes>"
      ]
     },
     "metadata": {
      "needs_background": "light"
     },
     "output_type": "display_data"
    }
   ],
   "source": [
    "plt.figure(figsize=(12,8))\n",
    "plt.subplot(1,2,1)\n",
    "f_groups.value_counts().plot(kind=\"bar\")\n",
    "plt.subplot(1,2,2)\n",
    "t_groups.value_counts().plot(kind=\"bar\")\n",
    "\n",
    "\"\"\"\n",
    "for group in all_kmeans[\"kmeans_group\"].unique():\n",
    "    print(f\"state == 0: group{group}: {list(f_groups).count(group)}\")\n",
    "    print(f\"state == 1: group{group}: {list(t_groups).count(group)}\")\n",
    "\"\"\""
   ]
  },
  {
   "cell_type": "code",
   "execution_count": 26,
   "metadata": {},
   "outputs": [],
   "source": [
    "oof = list(all_kmeans[all_kmeans.index.isin(train_data.index)][\"kmeans_group\"].astype(int))\n",
    "pred = list(all_kmeans[all_kmeans.index.isin(test_data.index)][\"kmeans_group\"].astype(int))\n",
    "\n",
    "config_dict = {\n",
    "    \"out_of_fold\": oof,\n",
    "    \"prediction\": pred,\n",
    "}\n",
    "\n",
    "with open(\"data/kmeans24_svd64_raw.json\", 'w') as f:\n",
    "    json.dump(config_dict, f)"
   ]
  },
  {
   "cell_type": "code",
   "execution_count": null,
   "metadata": {},
   "outputs": [],
   "source": []
  }
 ],
 "metadata": {
  "kernelspec": {
   "display_name": "Python 3",
   "language": "python",
   "name": "python3"
  },
  "language_info": {
   "codemirror_mode": {
    "name": "ipython",
    "version": 3
   },
   "file_extension": ".py",
   "mimetype": "text/x-python",
   "name": "python",
   "nbconvert_exporter": "python",
   "pygments_lexer": "ipython3",
   "version": "3.8.5"
  }
 },
 "nbformat": 4,
 "nbformat_minor": 4
}
