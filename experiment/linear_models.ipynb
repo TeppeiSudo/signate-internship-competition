{
 "cells": [
  {
   "cell_type": "code",
   "execution_count": 1,
   "metadata": {},
   "outputs": [],
   "source": [
    "import json\n",
    "import pandas as pd\n",
    "import numpy as np\n",
    "import matplotlib.pyplot as plt\n",
    "from sklearn.metrics import confusion_matrix, ConfusionMatrixDisplay\n",
    "#from sklearn.ensemble import RandomForestClassifier\n",
    "from sklearn.linear_model import RidgeClassifier, LogisticRegression, Perceptron\n",
    "from sklearn.metrics import f1_score, accuracy_score\n",
    "from sklearn.model_selection import KFold\n",
    "from sklearn.impute import SimpleImputer\n",
    "from sklearn.feature_selection import RFE\n",
    "import optuna.integration.sklearn"
   ]
  },
  {
   "cell_type": "code",
   "execution_count": 2,
   "metadata": {},
   "outputs": [],
   "source": [
    "all_new = pd.read_csv('data/feature_df.csv')\n",
    "wordvec_df = pd.read_csv('sub_notebook/data/wordvectorized_df.csv')\n",
    "bert_embeded = pd.read_csv('kaggle-notebook/data/bert_embeded.csv')\n",
    "#tfidf_1000 = pd.read_csv('data/tfidf_1000.csv')\n",
    "tfidf_svd_raw_64 = pd.read_csv(\"data/tfidf_svd_raw_64.csv\")\n",
    "#tfidf_svd_content_64 = pd.read_csv(\"data/tfidf_svd_content_64.csv\")\n",
    "#tfidf_svd_compiled_64 = pd.read_csv(\"data/tfidf_svd_compiled_64.csv\")\n",
    "mfw_df = pd.read_csv('data/mfw.csv')\n",
    "miw_df = pd.read_csv('data/miw.csv')"
   ]
  },
  {
   "cell_type": "code",
   "execution_count": 3,
   "metadata": {},
   "outputs": [],
   "source": [
    "#all_new = pd.merge(all_new, bert_embeded, on=\"id\", how=\"outer\")\n",
    "all_new = pd.merge(all_new, tfidf_svd_raw_64, on=\"id\", how=\"outer\")\n",
    "all_new = pd.merge(all_new, wordvec_df, on=\"id\", how=\"outer\")\n",
    "all_new = pd.merge(all_new, miw_df, on=\"id\", how=\"outer\")\n",
    "all_new = pd.merge(all_new, mfw_df.drop([\"mfw\", \"sfw\"], axis=1), on=\"id\", how=\"outer\")"
   ]
  },
  {
   "cell_type": "code",
   "execution_count": 4,
   "metadata": {},
   "outputs": [],
   "source": [
    "test_set = all_new[all_new[\"data_type\"] == \"test\"]\n",
    "train_set= all_new[all_new[\"data_type\"] == \"train\"]"
   ]
  },
  {
   "cell_type": "code",
   "execution_count": 5,
   "metadata": {},
   "outputs": [],
   "source": [
    "with open(\"data/lgbm_config_svd64_raw.json\") as f:\n",
    "    optuna_config_dict = json.load(f)\n",
    "\n",
    "target_cols = [\"state\"]\n",
    "feature_cols = optuna_config_dict[\"selected_feature\"]\n",
    "CATEGORICAL_COLS = [\n",
    "    \"country\",\n",
    "    \"category1\",\n",
    "    \"category2\",\n",
    "    \"country+category1\",\n",
    "    \"country+category2\",\n",
    "    \"category1+category2\",\n",
    "]\n",
    "\n",
    "for categorical_col in set(CATEGORICAL_COLS):\n",
    "    if categorical_col in feature_cols:\n",
    "        feature_cols.remove(categorical_col)"
   ]
  },
  {
   "cell_type": "code",
   "execution_count": 6,
   "metadata": {},
   "outputs": [],
   "source": [
    "def run_optuna_sklearn_clf(clf, param_distributions, test, train, target_cols, feature_cols, categorical_cols):\n",
    "    \"\"\"\n",
    "    import optuna.integration.sklearn\n",
    "    \"\"\"\n",
    "    \n",
    "    X_train = train[feature_cols]\n",
    "    y_train = train[target_cols]\n",
    "    X_test = test[feature_cols]\n",
    "    \n",
    "    y_preds = []\n",
    "    models = []\n",
    "    oof_train = np.zeros((len(X_train),))\n",
    "    importances = []\n",
    "    \n",
    "    cv = KFold(n_splits=5, shuffle=True, random_state=456)\n",
    "    for fold_id, (train_index, valid_index) in enumerate(cv.split(X_train)):\n",
    "        X_tr = X_train.loc[train_index]\n",
    "        X_val = X_train.loc[valid_index]\n",
    "        y_tr = y_train.loc[train_index].values.ravel()\n",
    "        y_val = y_train.loc[valid_index].values.ravel()\n",
    "        \n",
    "        optuna_search = optuna.integration.OptunaSearchCV(clf,\n",
    "                                                          param_distributions,\n",
    "                                                          n_jobs=4,\n",
    "                                                          n_trials=50,\n",
    "                                                          )\n",
    "        optuna_search.fit(X_tr, y_tr)\n",
    "        try:\n",
    "            oof_train[valid_index] = optuna_search.predict_proba(X_val)[:,1]\n",
    "            y_pred = optuna_search.predict_proba(X_test)[:,1]\n",
    "        except:\n",
    "            oof_train[valid_index] = optuna_search.predict(X_val)[:,1]\n",
    "            y_pred = optuna_search.predict(X_test)[:,1]\n",
    "\n",
    "        y_preds.append(y_pred)\n",
    "        #models.append(optuna_search)\n",
    "\n",
    "    return oof_train, sum(y_preds) / len(y_preds)"
   ]
  },
  {
   "cell_type": "code",
   "execution_count": 11,
   "metadata": {},
   "outputs": [
    {
     "name": "stderr",
     "output_type": "stream",
     "text": [
      "<ipython-input-6-3b452e689da4>:22: ExperimentalWarning: OptunaSearchCV is experimental (supported from v0.17.0). The interface can change in the future.\n",
      "  optuna_search = optuna.integration.OptunaSearchCV(clf,\n",
      "\u001b[32m[I 2021-01-28 00:29:42,753]\u001b[0m A new study created in memory with name: no-name-667c13cb-9536-491e-9d46-f1003f6d1a4e\u001b[0m\n",
      "\u001b[32m[I 2021-01-28 00:29:43,246]\u001b[0m Trial 1 finished with value: 0.5723157572403408 and parameters: {'alpha': 0.0008752741101095403}. Best is trial 1 with value: 0.5723157572403408.\u001b[0m\n",
      "\u001b[32m[I 2021-01-28 00:29:43,289]\u001b[0m Trial 2 finished with value: 0.5723157572403408 and parameters: {'alpha': 0.00012388561707085008}. Best is trial 1 with value: 0.5723157572403408.\u001b[0m\n",
      "\u001b[32m[I 2021-01-28 00:29:43,291]\u001b[0m Trial 0 finished with value: 0.5723157572403408 and parameters: {'alpha': 0.0009820952514113831}. Best is trial 1 with value: 0.5723157572403408.\u001b[0m\n",
      "\u001b[32m[I 2021-01-28 00:29:43,318]\u001b[0m Trial 3 finished with value: 0.5723157572403408 and parameters: {'alpha': 0.0003226870433581337}. Best is trial 1 with value: 0.5723157572403408.\u001b[0m\n",
      "\u001b[32m[I 2021-01-28 00:29:43,928]\u001b[0m Trial 5 finished with value: 0.5723157572403408 and parameters: {'alpha': 0.0005564297436572447}. Best is trial 1 with value: 0.5723157572403408.\u001b[0m\n",
      "\u001b[32m[I 2021-01-28 00:29:43,936]\u001b[0m Trial 4 finished with value: 0.5723157572403408 and parameters: {'alpha': 0.000807451141071382}. Best is trial 1 with value: 0.5723157572403408.\u001b[0m\n",
      "\u001b[32m[I 2021-01-28 00:29:43,938]\u001b[0m Trial 7 finished with value: 0.5723157572403408 and parameters: {'alpha': 0.0004533196981248326}. Best is trial 1 with value: 0.5723157572403408.\u001b[0m\n",
      "\u001b[32m[I 2021-01-28 00:29:43,947]\u001b[0m Trial 6 finished with value: 0.5723157572403408 and parameters: {'alpha': 0.0006267195287482755}. Best is trial 1 with value: 0.5723157572403408.\u001b[0m\n",
      "\u001b[32m[I 2021-01-28 00:29:44,491]\u001b[0m Trial 9 finished with value: 0.5723157572403408 and parameters: {'alpha': 7.404124601026155e-05}. Best is trial 1 with value: 0.5723157572403408.\u001b[0m\n",
      "\u001b[32m[I 2021-01-28 00:29:44,551]\u001b[0m Trial 8 finished with value: 0.5723157572403408 and parameters: {'alpha': 0.0008619171739349655}. Best is trial 1 with value: 0.5723157572403408.\u001b[0m\n",
      "\u001b[32m[I 2021-01-28 00:29:44,557]\u001b[0m Trial 10 finished with value: 0.5723157572403408 and parameters: {'alpha': 0.00041060883429994355}. Best is trial 1 with value: 0.5723157572403408.\u001b[0m\n",
      "\u001b[32m[I 2021-01-28 00:29:44,584]\u001b[0m Trial 11 finished with value: 0.5723157572403408 and parameters: {'alpha': 0.000812581722772245}. Best is trial 1 with value: 0.5723157572403408.\u001b[0m\n",
      "\u001b[32m[I 2021-01-28 00:29:45,054]\u001b[0m Trial 12 finished with value: 0.5723157572403408 and parameters: {'alpha': 0.000778024109557607}. Best is trial 1 with value: 0.5723157572403408.\u001b[0m\n",
      "\u001b[32m[I 2021-01-28 00:29:45,076]\u001b[0m Trial 13 finished with value: 0.5723157572403408 and parameters: {'alpha': 0.0009679751614071587}. Best is trial 1 with value: 0.5723157572403408.\u001b[0m\n",
      "\u001b[32m[I 2021-01-28 00:29:45,090]\u001b[0m Trial 14 finished with value: 0.5723157572403408 and parameters: {'alpha': 0.0009948269968060811}. Best is trial 1 with value: 0.5723157572403408.\u001b[0m\n",
      "\u001b[32m[I 2021-01-28 00:29:45,093]\u001b[0m Trial 15 finished with value: 0.5723157572403408 and parameters: {'alpha': 0.000995876131310225}. Best is trial 1 with value: 0.5723157572403408.\u001b[0m\n",
      "\u001b[32m[I 2021-01-28 00:29:45,597]\u001b[0m Trial 18 finished with value: 0.5723157572403408 and parameters: {'alpha': 0.0007074567294824172}. Best is trial 1 with value: 0.5723157572403408.\u001b[0m\n",
      "\u001b[32m[I 2021-01-28 00:29:45,614]\u001b[0m Trial 17 finished with value: 0.5723157572403408 and parameters: {'alpha': 0.0009886747821105826}. Best is trial 1 with value: 0.5723157572403408.\u001b[0m\n",
      "\u001b[32m[I 2021-01-28 00:29:45,722]\u001b[0m Trial 16 finished with value: 0.5723157572403408 and parameters: {'alpha': 0.000956106196669013}. Best is trial 1 with value: 0.5723157572403408.\u001b[0m\n",
      "\u001b[32m[I 2021-01-28 00:29:45,921]\u001b[0m Trial 19 finished with value: 0.5723157572403408 and parameters: {'alpha': 0.0007222695721818629}. Best is trial 1 with value: 0.5723157572403408.\u001b[0m\n",
      "\u001b[32m[I 2021-01-28 00:29:46,280]\u001b[0m Trial 20 finished with value: 0.5723157572403408 and parameters: {'alpha': 0.0009739591924679623}. Best is trial 1 with value: 0.5723157572403408.\u001b[0m\n",
      "\u001b[32m[I 2021-01-28 00:29:46,347]\u001b[0m Trial 21 finished with value: 0.5723157572403408 and parameters: {'alpha': 0.0009353656659204993}. Best is trial 1 with value: 0.5723157572403408.\u001b[0m\n",
      "\u001b[32m[I 2021-01-28 00:29:46,427]\u001b[0m Trial 22 finished with value: 0.5723157572403408 and parameters: {'alpha': 0.0006775675343672043}. Best is trial 1 with value: 0.5723157572403408.\u001b[0m\n",
      "\u001b[32m[I 2021-01-28 00:29:46,556]\u001b[0m Trial 23 finished with value: 0.5723157572403408 and parameters: {'alpha': 0.00020364576843605005}. Best is trial 1 with value: 0.5723157572403408.\u001b[0m\n",
      "\u001b[32m[I 2021-01-28 00:29:46,960]\u001b[0m Trial 25 finished with value: 0.5723157572403408 and parameters: {'alpha': 0.0006850746189627584}. Best is trial 1 with value: 0.5723157572403408.\u001b[0m\n",
      "\u001b[32m[I 2021-01-28 00:29:46,963]\u001b[0m Trial 24 finished with value: 0.5723157572403408 and parameters: {'alpha': 0.0006569949733424128}. Best is trial 1 with value: 0.5723157572403408.\u001b[0m\n",
      "\u001b[32m[I 2021-01-28 00:29:47,179]\u001b[0m Trial 26 finished with value: 0.5723157572403408 and parameters: {'alpha': 0.0007420592578970822}. Best is trial 1 with value: 0.5723157572403408.\u001b[0m\n",
      "\u001b[32m[I 2021-01-28 00:29:47,208]\u001b[0m Trial 27 finished with value: 0.5723157572403408 and parameters: {'alpha': 0.0009139557739948696}. Best is trial 1 with value: 0.5723157572403408.\u001b[0m\n",
      "\u001b[32m[I 2021-01-28 00:29:47,667]\u001b[0m Trial 29 finished with value: 0.5723157572403408 and parameters: {'alpha': 0.0001986127874943313}. Best is trial 1 with value: 0.5723157572403408.\u001b[0m\n",
      "\u001b[32m[I 2021-01-28 00:29:47,735]\u001b[0m Trial 28 finished with value: 0.5723157572403408 and parameters: {'alpha': 0.00025797709687505187}. Best is trial 1 with value: 0.5723157572403408.\u001b[0m\n",
      "\u001b[32m[I 2021-01-28 00:29:47,752]\u001b[0m Trial 31 finished with value: 0.5723157572403408 and parameters: {'alpha': 0.0005935515657593471}. Best is trial 1 with value: 0.5723157572403408.\u001b[0m\n",
      "\u001b[32m[I 2021-01-28 00:29:47,961]\u001b[0m Trial 30 finished with value: 0.5723157572403408 and parameters: {'alpha': 0.0002771593191113277}. Best is trial 1 with value: 0.5723157572403408.\u001b[0m\n",
      "\u001b[32m[I 2021-01-28 00:29:48,498]\u001b[0m Trial 32 finished with value: 0.5723157572403408 and parameters: {'alpha': 0.0005694175107763855}. Best is trial 1 with value: 0.5723157572403408.\u001b[0m\n",
      "\u001b[32m[I 2021-01-28 00:29:48,515]\u001b[0m Trial 33 finished with value: 0.5723157572403408 and parameters: {'alpha': 0.0008831453625211424}. Best is trial 1 with value: 0.5723157572403408.\u001b[0m\n",
      "\u001b[32m[I 2021-01-28 00:29:48,561]\u001b[0m Trial 34 finished with value: 0.5723157572403408 and parameters: {'alpha': 0.0009074180880530087}. Best is trial 1 with value: 0.5723157572403408.\u001b[0m\n",
      "\u001b[32m[I 2021-01-28 00:29:48,715]\u001b[0m Trial 35 finished with value: 0.5723157572403408 and parameters: {'alpha': 0.00020720394206266777}. Best is trial 1 with value: 0.5723157572403408.\u001b[0m\n",
      "\u001b[32m[I 2021-01-28 00:29:49,195]\u001b[0m Trial 36 finished with value: 0.5723157572403408 and parameters: {'alpha': 0.000346716207965447}. Best is trial 1 with value: 0.5723157572403408.\u001b[0m\n",
      "\u001b[32m[I 2021-01-28 00:29:49,317]\u001b[0m Trial 38 finished with value: 0.5723157572403408 and parameters: {'alpha': 0.0008307684348342675}. Best is trial 1 with value: 0.5723157572403408.\u001b[0m\n",
      "\u001b[32m[I 2021-01-28 00:29:49,355]\u001b[0m Trial 37 finished with value: 0.5723157572403408 and parameters: {'alpha': 1.7150142515777835e-05}. Best is trial 1 with value: 0.5723157572403408.\u001b[0m\n",
      "\u001b[32m[I 2021-01-28 00:29:49,539]\u001b[0m Trial 39 finished with value: 0.5723157572403408 and parameters: {'alpha': 0.0008543580792538291}. Best is trial 1 with value: 0.5723157572403408.\u001b[0m\n",
      "\u001b[32m[I 2021-01-28 00:29:50,033]\u001b[0m Trial 40 finished with value: 0.5723157572403408 and parameters: {'alpha': 0.0008388513072413417}. Best is trial 1 with value: 0.5723157572403408.\u001b[0m\n",
      "\u001b[32m[I 2021-01-28 00:29:50,122]\u001b[0m Trial 41 finished with value: 0.5723157572403408 and parameters: {'alpha': 0.0004665892554771697}. Best is trial 1 with value: 0.5723157572403408.\u001b[0m\n",
      "\u001b[32m[I 2021-01-28 00:29:50,217]\u001b[0m Trial 42 finished with value: 0.5723157572403408 and parameters: {'alpha': 0.0004790371343959121}. Best is trial 1 with value: 0.5723157572403408.\u001b[0m\n",
      "\u001b[32m[I 2021-01-28 00:29:50,282]\u001b[0m Trial 43 finished with value: 0.5723157572403408 and parameters: {'alpha': 0.0004841631937864887}. Best is trial 1 with value: 0.5723157572403408.\u001b[0m\n",
      "\u001b[32m[I 2021-01-28 00:29:50,681]\u001b[0m Trial 45 finished with value: 0.5723157572403408 and parameters: {'alpha': 0.0006438354250963694}. Best is trial 1 with value: 0.5723157572403408.\u001b[0m\n",
      "\u001b[32m[I 2021-01-28 00:29:50,734]\u001b[0m Trial 44 finished with value: 0.5723157572403408 and parameters: {'alpha': 0.0006408596969990341}. Best is trial 1 with value: 0.5723157572403408.\u001b[0m\n",
      "\u001b[32m[I 2021-01-28 00:29:50,788]\u001b[0m Trial 46 finished with value: 0.5723157572403408 and parameters: {'alpha': 0.0006342719801395113}. Best is trial 1 with value: 0.5723157572403408.\u001b[0m\n",
      "\u001b[32m[I 2021-01-28 00:29:51,004]\u001b[0m Trial 47 finished with value: 0.5723157572403408 and parameters: {'alpha': 0.0006362615444194229}. Best is trial 1 with value: 0.5723157572403408.\u001b[0m\n",
      "\u001b[32m[I 2021-01-28 00:29:51,154]\u001b[0m Trial 49 finished with value: 0.5723157572403408 and parameters: {'alpha': 0.0007684413956470727}. Best is trial 1 with value: 0.5723157572403408.\u001b[0m\n",
      "\u001b[32m[I 2021-01-28 00:29:51,159]\u001b[0m Trial 48 finished with value: 0.5723157572403408 and parameters: {'alpha': 0.0007773564377181449}. Best is trial 1 with value: 0.5723157572403408.\u001b[0m\n"
     ]
    },
    {
     "ename": "IndexError",
     "evalue": "too many indices for array: array is 1-dimensional, but 2 were indexed",
     "output_type": "error",
     "traceback": [
      "\u001b[0;31m---------------------------------------------------------------------------\u001b[0m",
      "\u001b[0;31mAttributeError\u001b[0m                            Traceback (most recent call last)",
      "\u001b[0;32m<ipython-input-6-3b452e689da4>\u001b[0m in \u001b[0;36mrun_optuna_sklearn_clf\u001b[0;34m(clf, param_distributions, test, train, target_cols, feature_cols, categorical_cols)\u001b[0m\n\u001b[1;32m     28\u001b[0m         \u001b[0;32mtry\u001b[0m\u001b[0;34m:\u001b[0m\u001b[0;34m\u001b[0m\u001b[0;34m\u001b[0m\u001b[0m\n\u001b[0;32m---> 29\u001b[0;31m             \u001b[0moof_train\u001b[0m\u001b[0;34m[\u001b[0m\u001b[0mvalid_index\u001b[0m\u001b[0;34m]\u001b[0m \u001b[0;34m=\u001b[0m \u001b[0moptuna_search\u001b[0m\u001b[0;34m.\u001b[0m\u001b[0mpredict_proba\u001b[0m\u001b[0;34m(\u001b[0m\u001b[0mX_val\u001b[0m\u001b[0;34m)\u001b[0m\u001b[0;34m[\u001b[0m\u001b[0;34m:\u001b[0m\u001b[0;34m,\u001b[0m\u001b[0;36m1\u001b[0m\u001b[0;34m]\u001b[0m\u001b[0;34m\u001b[0m\u001b[0;34m\u001b[0m\u001b[0m\n\u001b[0m\u001b[1;32m     30\u001b[0m             \u001b[0my_pred\u001b[0m \u001b[0;34m=\u001b[0m \u001b[0moptuna_search\u001b[0m\u001b[0;34m.\u001b[0m\u001b[0mpredict_proba\u001b[0m\u001b[0;34m(\u001b[0m\u001b[0mX_test\u001b[0m\u001b[0;34m)\u001b[0m\u001b[0;34m[\u001b[0m\u001b[0;34m:\u001b[0m\u001b[0;34m,\u001b[0m\u001b[0;36m1\u001b[0m\u001b[0;34m]\u001b[0m\u001b[0;34m\u001b[0m\u001b[0;34m\u001b[0m\u001b[0m\n",
      "\u001b[0;32m~/anaconda3/lib/python3.8/site-packages/optuna/integration/sklearn.py\u001b[0m in \u001b[0;36mpredict_proba\u001b[0;34m(self)\u001b[0m\n\u001b[1;32m    620\u001b[0m \u001b[0;34m\u001b[0m\u001b[0m\n\u001b[0;32m--> 621\u001b[0;31m         \u001b[0;32mreturn\u001b[0m \u001b[0mself\u001b[0m\u001b[0;34m.\u001b[0m\u001b[0mbest_estimator_\u001b[0m\u001b[0;34m.\u001b[0m\u001b[0mpredict_proba\u001b[0m\u001b[0;34m\u001b[0m\u001b[0;34m\u001b[0m\u001b[0m\n\u001b[0m\u001b[1;32m    622\u001b[0m \u001b[0;34m\u001b[0m\u001b[0m\n",
      "\u001b[0;31mAttributeError\u001b[0m: 'Perceptron' object has no attribute 'predict_proba'",
      "\nDuring handling of the above exception, another exception occurred:\n",
      "\u001b[0;31mIndexError\u001b[0m                                Traceback (most recent call last)",
      "\u001b[0;32m<ipython-input-11-d342f485e89c>\u001b[0m in \u001b[0;36m<module>\u001b[0;34m\u001b[0m\n\u001b[1;32m      4\u001b[0m }\n\u001b[1;32m      5\u001b[0m \u001b[0;34m\u001b[0m\u001b[0m\n\u001b[0;32m----> 6\u001b[0;31m \u001b[0moof\u001b[0m\u001b[0;34m,\u001b[0m \u001b[0mpreds\u001b[0m \u001b[0;34m=\u001b[0m \u001b[0mrun_optuna_sklearn_clf\u001b[0m\u001b[0;34m(\u001b[0m\u001b[0mclf\u001b[0m\u001b[0;34m,\u001b[0m \u001b[0mparam_distributions\u001b[0m\u001b[0;34m,\u001b[0m \u001b[0mtest_set\u001b[0m\u001b[0;34m,\u001b[0m \u001b[0mtrain_set\u001b[0m\u001b[0;34m,\u001b[0m \u001b[0mtarget_cols\u001b[0m\u001b[0;34m,\u001b[0m \u001b[0mfeature_cols\u001b[0m\u001b[0;34m,\u001b[0m \u001b[0mCATEGORICAL_COLS\u001b[0m\u001b[0;34m)\u001b[0m\u001b[0;34m\u001b[0m\u001b[0;34m\u001b[0m\u001b[0m\n\u001b[0m",
      "\u001b[0;32m<ipython-input-6-3b452e689da4>\u001b[0m in \u001b[0;36mrun_optuna_sklearn_clf\u001b[0;34m(clf, param_distributions, test, train, target_cols, feature_cols, categorical_cols)\u001b[0m\n\u001b[1;32m     30\u001b[0m             \u001b[0my_pred\u001b[0m \u001b[0;34m=\u001b[0m \u001b[0moptuna_search\u001b[0m\u001b[0;34m.\u001b[0m\u001b[0mpredict_proba\u001b[0m\u001b[0;34m(\u001b[0m\u001b[0mX_test\u001b[0m\u001b[0;34m)\u001b[0m\u001b[0;34m[\u001b[0m\u001b[0;34m:\u001b[0m\u001b[0;34m,\u001b[0m\u001b[0;36m1\u001b[0m\u001b[0;34m]\u001b[0m\u001b[0;34m\u001b[0m\u001b[0;34m\u001b[0m\u001b[0m\n\u001b[1;32m     31\u001b[0m         \u001b[0;32mexcept\u001b[0m\u001b[0;34m:\u001b[0m\u001b[0;34m\u001b[0m\u001b[0;34m\u001b[0m\u001b[0m\n\u001b[0;32m---> 32\u001b[0;31m             \u001b[0moof_train\u001b[0m\u001b[0;34m[\u001b[0m\u001b[0mvalid_index\u001b[0m\u001b[0;34m]\u001b[0m \u001b[0;34m=\u001b[0m \u001b[0moptuna_search\u001b[0m\u001b[0;34m.\u001b[0m\u001b[0mpredict\u001b[0m\u001b[0;34m(\u001b[0m\u001b[0mX_val\u001b[0m\u001b[0;34m)\u001b[0m\u001b[0;34m[\u001b[0m\u001b[0;34m:\u001b[0m\u001b[0;34m,\u001b[0m\u001b[0;36m1\u001b[0m\u001b[0;34m]\u001b[0m\u001b[0;34m\u001b[0m\u001b[0;34m\u001b[0m\u001b[0m\n\u001b[0m\u001b[1;32m     33\u001b[0m             \u001b[0my_pred\u001b[0m \u001b[0;34m=\u001b[0m \u001b[0moptuna_search\u001b[0m\u001b[0;34m.\u001b[0m\u001b[0mpredict\u001b[0m\u001b[0;34m(\u001b[0m\u001b[0mX_test\u001b[0m\u001b[0;34m)\u001b[0m\u001b[0;34m[\u001b[0m\u001b[0;34m:\u001b[0m\u001b[0;34m,\u001b[0m\u001b[0;36m1\u001b[0m\u001b[0;34m]\u001b[0m\u001b[0;34m\u001b[0m\u001b[0;34m\u001b[0m\u001b[0m\n\u001b[1;32m     34\u001b[0m \u001b[0;34m\u001b[0m\u001b[0m\n",
      "\u001b[0;31mIndexError\u001b[0m: too many indices for array: array is 1-dimensional, but 2 were indexed"
     ]
    }
   ],
   "source": [
    "clf = Perceptron(max_iter=1000, )\n",
    "param_distributions = {\n",
    "    'alpha': optuna.distributions.UniformDistribution(0.00001, 0.001),\n",
    "}\n",
    "\n",
    "oof, preds = run_optuna_sklearn_clf(clf, param_distributions, test_set, train_set, target_cols, feature_cols, CATEGORICAL_COLS)"
   ]
  },
  {
   "cell_type": "code",
   "execution_count": 9,
   "metadata": {},
   "outputs": [],
   "source": [
    "def optimize_threshold(oof, y_train):\n",
    "    best_score = 0\n",
    "    scores = []\n",
    "    ratios = []\n",
    "    for thr in np.arange(0, 1.0, 0.025):\n",
    "        oof_ = np.where(oof<thr, 0, 1)\n",
    "        ratio = np.count_nonzero(oof_>0)/len(oof_)\n",
    "        ratios.append(ratio)\n",
    "        f1score = f1_score(y_true=y_train, y_pred=oof_,average='binary', sample_weight=None, zero_division='warn')\n",
    "        scores.append(f1score)\n",
    "        best_score = max(best_score, f1score)\n",
    "        if f1score == best_score:\n",
    "            best_threshold = thr\n",
    "    plt.figure()\n",
    "    plt.title('f1_score')\n",
    "    plt.scatter(np.arange(0, 1.0, 0.025), scores)\n",
    "    plt.scatter(np.arange(0, 1.0, 0.025), ratios)\n",
    "    return best_score, best_threshold"
   ]
  },
  {
   "cell_type": "code",
   "execution_count": 10,
   "metadata": {},
   "outputs": [
    {
     "name": "stdout",
     "output_type": "stream",
     "text": [
      "0.7554940582777144 0.375\n"
     ]
    },
    {
     "data": {
      "image/png": "[encoded data removed]",
      "text/plain": [
       "<Figure size 432x288 with 1 Axes>"
      ]
     },
     "metadata": {
      "needs_background": "light"
     },
     "output_type": "display_data"
    }
   ],
   "source": [
    "best_score, best_threshold = optimize_threshold(oof, list(train_set[\"state\"]))\n",
    "print(best_score, best_threshold)"
   ]
  },
  {
   "cell_type": "code",
   "execution_count": null,
   "metadata": {},
   "outputs": [],
   "source": []
  }
 ],
 "metadata": {
  "kernelspec": {
   "display_name": "Python 3",
   "language": "python",
   "name": "python3"
  },
  "language_info": {
   "codemirror_mode": {
    "name": "ipython",
    "version": 3
   },
   "file_extension": ".py",
   "mimetype": "text/x-python",
   "name": "python",
   "nbconvert_exporter": "python",
   "pygments_lexer": "ipython3",
   "version": "3.8.5"
  }
 },
 "nbformat": 4,
 "nbformat_minor": 4
}
