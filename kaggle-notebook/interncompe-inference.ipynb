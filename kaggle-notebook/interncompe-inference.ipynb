{
 "cells": [
  {
   "cell_type": "code",
   "execution_count": 1,
   "metadata": {
    "_cell_guid": "b1076dfc-b9ad-4769-8c92-a6c4dae69d19",
    "_uuid": "8f2839f25d086af736a60e9eeb907d3b93b6e0e5",
    "execution": {
     "iopub.execute_input": "2020-12-24T04:22:55.260853Z",
     "iopub.status.busy": "2020-12-24T04:22:55.260214Z",
     "iopub.status.idle": "2020-12-24T04:22:58.409629Z",
     "shell.execute_reply": "2020-12-24T04:22:58.408608Z"
    },
    "papermill": {
     "duration": 3.167955,
     "end_time": "2020-12-24T04:22:58.409787",
     "exception": false,
     "start_time": "2020-12-24T04:22:55.241832",
     "status": "completed"
    },
    "tags": []
   },
   "outputs": [],
   "source": [
    "import numpy as np\n",
    "import pandas as pd\n",
    "import os\n",
    "import matplotlib.pyplot as plt\n",
    "\n",
    "#from sklearn import preprocessing as pp\n",
    "#from sklearn.metrics import accuracy_score\n",
    "from sklearn.metrics import f1_score\n",
    "from sklearn.model_selection import train_test_split\n",
    "import re\n",
    "import time\n",
    "from tqdm import tqdm\n",
    "import random\n",
    "\n",
    "import torch\n",
    "import torch.nn as nn\n",
    "import torch.nn.functional as F\n",
    "\n",
    "#import torchvision.transforms as transforms\n",
    "import torch.optim as optimizers\n",
    "from torch.utils.data import random_split\n",
    "from torch.utils.data import Dataset, DataLoader\n",
    "from torch.utils.data import WeightedRandomSampler, BatchSampler\n",
    "\n",
    "import pytorch_lightning as pl\n",
    "from pytorch_lightning import Trainer\n",
    "from pytorch_lightning.callbacks import EarlyStopping"
   ]
  },
  {
   "cell_type": "code",
   "execution_count": 2,
   "metadata": {
    "_cell_guid": "79c7e3d0-c299-4dcb-8224-4455121ee9b0",
    "_uuid": "d629ff2d2480ee46fbb7e2d37f6b5fab8052498a",
    "execution": {
     "iopub.execute_input": "2020-12-24T04:22:58.433268Z",
     "iopub.status.busy": "2020-12-24T04:22:58.432546Z",
     "iopub.status.idle": "2020-12-24T04:22:58.435391Z",
     "shell.execute_reply": "2020-12-24T04:22:58.434947Z"
    },
    "papermill": {
     "duration": 0.015667,
     "end_time": "2020-12-24T04:22:58.435474",
     "exception": false,
     "start_time": "2020-12-24T04:22:58.419807",
     "status": "completed"
    },
    "tags": []
   },
   "outputs": [],
   "source": [
    "import warnings\n",
    "warnings.filterwarnings('ignore')"
   ]
  },
  {
   "cell_type": "code",
   "execution_count": 3,
   "metadata": {
    "execution": {
     "iopub.execute_input": "2020-12-24T04:22:58.460053Z",
     "iopub.status.busy": "2020-12-24T04:22:58.459385Z",
     "iopub.status.idle": "2020-12-24T04:22:58.464942Z",
     "shell.execute_reply": "2020-12-24T04:22:58.464434Z"
    },
    "papermill": {
     "duration": 0.020287,
     "end_time": "2020-12-24T04:22:58.465029",
     "exception": false,
     "start_time": "2020-12-24T04:22:58.444742",
     "status": "completed"
    },
    "tags": []
   },
   "outputs": [],
   "source": [
    "def set_seed(seed: int = 123):\n",
    "    random.seed(seed)\n",
    "    np.random.seed(seed)\n",
    "    os.environ[\"PYTHONHASHSEED\"] = str(seed)\n",
    "    torch.manual_seed(seed)\n",
    "    torch.cuda.manual_seed(seed)  # type: ignore\n",
    "    torch.backends.cudnn.deterministic = True  # type: ignore\n",
    "    torch.backends.cudnn.benchmark = True  # type: ignore\n",
    "    \n",
    "set_seed(123)"
   ]
  },
  {
   "cell_type": "code",
   "execution_count": 4,
   "metadata": {
    "execution": {
     "iopub.execute_input": "2020-12-24T04:22:58.494892Z",
     "iopub.status.busy": "2020-12-24T04:22:58.494343Z",
     "iopub.status.idle": "2020-12-24T04:23:02.060631Z",
     "shell.execute_reply": "2020-12-24T04:23:02.059920Z"
    },
    "papermill": {
     "duration": 3.586326,
     "end_time": "2020-12-24T04:23:02.060822",
     "exception": false,
     "start_time": "2020-12-24T04:22:58.474496",
     "status": "completed"
    },
    "tags": []
   },
   "outputs": [],
   "source": [
    "train_new = pd.read_csv('../input/intern-compe/train_added_encoded.csv')\n",
    "test_new = pd.read_csv('../input/intern-compe/test_added_encoded.csv')\n",
    "all_data = pd.read_csv('../input/intern-compe/all_added_encoded.csv')"
   ]
  },
  {
   "cell_type": "code",
   "execution_count": 5,
   "metadata": {
    "execution": {
     "iopub.execute_input": "2020-12-24T04:23:02.101151Z",
     "iopub.status.busy": "2020-12-24T04:23:02.100227Z",
     "iopub.status.idle": "2020-12-24T04:23:02.102554Z",
     "shell.execute_reply": "2020-12-24T04:23:02.101902Z"
    },
    "papermill": {
     "duration": 0.025141,
     "end_time": "2020-12-24T04:23:02.102671",
     "exception": false,
     "start_time": "2020-12-24T04:23:02.077530",
     "status": "completed"
    },
    "tags": []
   },
   "outputs": [],
   "source": [
    "target_cols = [\"state\"]\n",
    "#feature_cols = [\"country\", \"duration\", \"category1\", \"category2\", \"goal_min\", \"goal_max\"]\n",
    "#categorical_cols = [\"country\", \"category1\", \"category2\"]\n",
    "feature_cols = [\"duration\", \"category1\", \"category2\", \"goal_min\"]\n",
    "categorical_cols = [\"category1\", \"category2\"]"
   ]
  },
  {
   "cell_type": "code",
   "execution_count": 6,
   "metadata": {
    "execution": {
     "iopub.execute_input": "2020-12-24T04:23:02.147524Z",
     "iopub.status.busy": "2020-12-24T04:23:02.146752Z",
     "iopub.status.idle": "2020-12-24T04:23:02.152724Z",
     "shell.execute_reply": "2020-12-24T04:23:02.151300Z"
    },
    "papermill": {
     "duration": 0.037403,
     "end_time": "2020-12-24T04:23:02.156380",
     "exception": false,
     "start_time": "2020-12-24T04:23:02.118977",
     "status": "completed"
    },
    "tags": []
   },
   "outputs": [],
   "source": [
    "class CFDataset(Dataset):\n",
    "    def __init__(self, csv_file, transform=None):\n",
    "        self.csv_file = csv_file\n",
    "        self.transform = transform\n",
    "        self.feature_cols = [\"duration\", \"category1\", \"category2\", \"goal_min\"]\n",
    "        self.target_cols = [\"state\"]\n",
    "        \n",
    "        \n",
    "    def __len__(self):\n",
    "        return len(self.csv_file)\n",
    "    \n",
    "    \n",
    "    def __getitem__(self, idx):\n",
    "        if torch.is_tensor(idx):\n",
    "            idx = idx.tolist()\n",
    "        \n",
    "        features = self.csv_file[self.feature_cols].iloc[idx]\n",
    "        features = torch.FloatTensor(features)\n",
    "        try:\n",
    "            target = self.csv_file[self.target_cols].iloc[idx]\n",
    "            target = torch.Tensor(target)\n",
    "            # train_step\n",
    "        except:\n",
    "            target = self.csv_file[\"id\"].iloc[idx]\n",
    "            # test_step\n",
    "        \n",
    "        if self.transform:\n",
    "            features = self.transform(features)\n",
    "            \n",
    "        return features, target"
   ]
  },
  {
   "cell_type": "code",
   "execution_count": 7,
   "metadata": {
    "execution": {
     "iopub.execute_input": "2020-12-24T04:23:02.230505Z",
     "iopub.status.busy": "2020-12-24T04:23:02.229739Z",
     "iopub.status.idle": "2020-12-24T04:23:02.234043Z",
     "shell.execute_reply": "2020-12-24T04:23:02.234658Z"
    },
    "papermill": {
     "duration": 0.036997,
     "end_time": "2020-12-24T04:23:02.234818",
     "exception": false,
     "start_time": "2020-12-24T04:23:02.197821",
     "status": "completed"
    },
    "tags": []
   },
   "outputs": [],
   "source": [
    "class CFDataModule(pl.LightningDataModule):\n",
    "    def __init__(self, csv_file, transform, split_rate, batch_size, num_workers):\n",
    "        super().__init__()\n",
    "        self.csv_file = csv_file\n",
    "        self.transform = transform\n",
    "        self.split_rate = split_rate\n",
    "        self.batch_size = batch_size\n",
    "        self.num_workers = num_workers\n",
    "        \n",
    "\n",
    "    def setup(self, stage=None):\n",
    "        dataset = self.csv_file\n",
    "        n_samples = len(dataset)\n",
    "        n_train = int(n_samples * 0.8)\n",
    "        n_val = n_samples - n_train\n",
    "        train_dataset, val_dataset = train_test_split(dataset,  train_size=n_train, test_size=n_val)\n",
    "        \n",
    "        self.train_dataset = CFDataset(csv_file=train_dataset, transform=self.transform)\n",
    "        self.val_dataset = CFDataset(csv_file=val_dataset, transform=self.transform)\n",
    "        \n",
    "        \n",
    "    def train_dataloader(self):\n",
    "        return DataLoader(self.train_dataset,\n",
    "                          batch_size=self.batch_size,\n",
    "                          drop_last=True,\n",
    "                          num_workers=self.num_workers,\n",
    "                          pin_memory=True)\n",
    "    \n",
    "    \n",
    "    def val_dataloader(self):\n",
    "        return DataLoader(self.val_dataset,\n",
    "                          batch_size=self.batch_size,\n",
    "                          drop_last=True,\n",
    "                          num_workers=self.num_workers,\n",
    "                          pin_memory=True)"
   ]
  },
  {
   "cell_type": "code",
   "execution_count": 8,
   "metadata": {
    "execution": {
     "iopub.execute_input": "2020-12-24T04:23:02.282727Z",
     "iopub.status.busy": "2020-12-24T04:23:02.277636Z",
     "iopub.status.idle": "2020-12-24T04:23:02.311125Z",
     "shell.execute_reply": "2020-12-24T04:23:02.311771Z"
    },
    "papermill": {
     "duration": 0.059772,
     "end_time": "2020-12-24T04:23:02.311908",
     "exception": false,
     "start_time": "2020-12-24T04:23:02.252136",
     "status": "completed"
    },
    "tags": []
   },
   "outputs": [],
   "source": [
    "class CFModule(pl.LightningModule):\n",
    "    def __init__(self, num_features, hidden_size, dropout, num_classes):\n",
    "        super(CFModule, self).__init__()\n",
    "        self.batch_norm1 = nn.BatchNorm1d(num_features)\n",
    "        self.dropout1 = nn.Dropout(dropout*(2/5))\n",
    "        self.dense1 = nn.utils.weight_norm(nn.Linear(num_features, hidden_size*2))\n",
    "        \n",
    "        self.batch_norm2 = nn.BatchNorm1d(hidden_size*2)\n",
    "        self.dropout2 = nn.Dropout(dropout)\n",
    "        self.dense2 = nn.utils.weight_norm(nn.Linear(hidden_size*2, hidden_size))\n",
    "        \n",
    "        self.batch_norm3 = nn.BatchNorm1d(hidden_size)\n",
    "        self.dropout3 = nn.Dropout(dropout)\n",
    "        self.dense3 = nn.utils.weight_norm(nn.Linear(hidden_size, hidden_size))\n",
    "        \n",
    "        self.batch_norm4 = nn.BatchNorm1d(hidden_size)\n",
    "        self.dropout4 = nn.Dropout(dropout)\n",
    "        self.layer4 = nn.Linear(hidden_size, num_classes)\n",
    "        \n",
    "    \n",
    "    def forward(self, x):\n",
    "        x = self.batch_norm1(x)\n",
    "        x = self.dropout1(x)\n",
    "        x = F.relu(self.dense1(x))\n",
    "        \n",
    "        x = self.batch_norm2(x)\n",
    "        x = self.dropout2(x)\n",
    "        x = F.relu(self.dense2(x))\n",
    "        \n",
    "        x = self.batch_norm3(x)\n",
    "        x = self.dropout3(x)\n",
    "        x = F.relu(self.dense3(x))\n",
    "        \n",
    "        x = self.batch_norm4(x)\n",
    "        x = self.dropout4(x)\n",
    "        x = self.layer4(x)\n",
    "        \n",
    "        x = torch.sigmoid(x)\n",
    "        \n",
    "        return x\n",
    "    \n",
    "    \n",
    "    def training_step(self, batch, batch_idx):\n",
    "        x, t = batch\n",
    "        pred = self.forward(x)\n",
    "        loss = self.criterion(pred, t)\n",
    "        #acc = self.metric(pred, t)\n",
    "        # you should define log as {\"tag_name/log_name\"}\n",
    "        tensorboard_logs = {'train/train_loss': loss}\n",
    "        return {\"loss\": loss, \"logs\": tensorboard_logs, \"progress_bar\": tensorboard_logs}\n",
    "    \n",
    "    \n",
    "    def validation_step(self, batch, batch_idx):\n",
    "        x, t = batch\n",
    "        pred = self.forward(x)\n",
    "        loss = self.criterion(pred, t)\n",
    "        #acc = self.metric(pred, t)\n",
    "        logs = {\"val_loss\": loss}\n",
    "        return {\"val_loss\": loss, \"progress_bar\": logs}\n",
    "\n",
    "    \n",
    "    def validation_end(self, outputs):\n",
    "        avg_loss = torch.stack([x['val_loss'] for x in outputs]).mean()\n",
    "        #avg_acc = torch.stack([x['val_acc'] for x in outputs]).mean()\n",
    "        tensorboard_logs = {'val/avg_loss': avg_loss}\n",
    "        # you should call back as name \"val_loss\" to using the Early-Stopping\n",
    "        return {'val_loss': avg_loss, 'log': tensorboard_logs}\n",
    "    \n",
    "    \n",
    "    def test_step(self, batch, batch_idx):\n",
    "        x, t = batch\n",
    "        ids = t\n",
    "        preds = self.forward(x)\n",
    "        #self.preds.extend(preds.tolist())\n",
    "        #self.ids.extend(ids.tolist())\n",
    "        return {\"ids\": ids, \"preds\": preds}\n",
    "        \n",
    "        \n",
    "    def test_step_end(self, outputs):\n",
    "        ids = outputs[\"ids\"]\n",
    "        preds = outputs[\"preds\"]\n",
    "        ids_sub = ids_sub.extend(ids.tolist())\n",
    "        preds_sub = preds_sub.extend(preds.tolist())\n",
    "    \n",
    "    \n",
    "    def configure_optimizers(self):\n",
    "        optimizer = optimizers.Adam(self.parameters(), \n",
    "                                    lr=0.001, betas=(0.9,0.999),\n",
    "                                    eps=1e-08, weight_decay=0, amsgrad=False)\n",
    "        scheduler = {\"scheduler\": \n",
    "                     optimizers.lr_scheduler.CosineAnnealingLR(\n",
    "                        optimizer, T_max=10),\n",
    "                    \"interval\": \"epoch\",\n",
    "                    \"monitor\": \"val_loss\"}\n",
    "        return [optimizer], [scheduler]\n",
    "    \n",
    "    \n",
    "    def criterion(self, pred, t):\n",
    "        return F.mse_loss(input=pred, target=t)"
   ]
  },
  {
   "cell_type": "code",
   "execution_count": 9,
   "metadata": {
    "execution": {
     "iopub.execute_input": "2020-12-24T04:23:02.373736Z",
     "iopub.status.busy": "2020-12-24T04:23:02.371170Z",
     "iopub.status.idle": "2020-12-24T04:23:02.379393Z",
     "shell.execute_reply": "2020-12-24T04:23:02.380528Z"
    },
    "papermill": {
     "duration": 0.052618,
     "end_time": "2020-12-24T04:23:02.380709",
     "exception": false,
     "start_time": "2020-12-24T04:23:02.328091",
     "status": "completed"
    },
    "tags": []
   },
   "outputs": [],
   "source": [
    "class CFModel(nn.Module):\n",
    "    def __init__(self, num_features, hidden_size, dropout, num_classes):\n",
    "        super().__init__()\n",
    "        self.batch_norm1 = nn.BatchNorm1d(num_features)\n",
    "        self.dropout1 = nn.Dropout(dropout*(2/5))\n",
    "        self.dense1 = nn.utils.weight_norm(nn.Linear(num_features, hidden_size*2))\n",
    "        \n",
    "        self.batch_norm2 = nn.BatchNorm1d(hidden_size*2)\n",
    "        self.dropout2 = nn.Dropout(dropout)\n",
    "        self.dense2 = nn.utils.weight_norm(nn.Linear(hidden_size*2, hidden_size))\n",
    "        \n",
    "        self.batch_norm3 = nn.BatchNorm1d(hidden_size)\n",
    "        self.dropout3 = nn.Dropout(dropout)\n",
    "        self.dense3 = nn.utils.weight_norm(nn.Linear(hidden_size, hidden_size))\n",
    "        \n",
    "        self.batch_norm4 = nn.BatchNorm1d(hidden_size)\n",
    "        self.dropout4 = nn.Dropout(dropout)\n",
    "        self.layer4 = nn.Linear(hidden_size, num_classes)\n",
    "        \n",
    "    \n",
    "    def forward(self, x):\n",
    "        x = self.batch_norm1(x)\n",
    "        x = self.dropout1(x)\n",
    "        x = F.relu(self.dense1(x))\n",
    "        \n",
    "        x = self.batch_norm2(x)\n",
    "        x = self.dropout2(x)\n",
    "        x = F.relu(self.dense2(x))\n",
    "        \n",
    "        x = self.batch_norm3(x)\n",
    "        x = self.dropout3(x)\n",
    "        x = F.relu(self.dense3(x))\n",
    "        \n",
    "        x = self.batch_norm4(x)\n",
    "        x = self.dropout4(x)\n",
    "        x = self.layer4(x)\n",
    "        \n",
    "        x = torch.sigmoid(x)\n",
    "        \n",
    "        return x"
   ]
  },
  {
   "cell_type": "code",
   "execution_count": 10,
   "metadata": {
    "execution": {
     "iopub.execute_input": "2020-12-24T04:23:02.429680Z",
     "iopub.status.busy": "2020-12-24T04:23:02.428990Z",
     "iopub.status.idle": "2020-12-24T04:23:02.432508Z",
     "shell.execute_reply": "2020-12-24T04:23:02.433417Z"
    },
    "papermill": {
     "duration": 0.033629,
     "end_time": "2020-12-24T04:23:02.433546",
     "exception": false,
     "start_time": "2020-12-24T04:23:02.399917",
     "status": "completed"
    },
    "tags": []
   },
   "outputs": [],
   "source": [
    "def make_submission(model, data_loader):\n",
    "    preds = torch.tensor([])\n",
    "    ids = []\n",
    "    target_columns = \"state\"\n",
    "    \n",
    "    device = torch.device('cuda' if torch.cuda.is_available() else 'cpu')\n",
    "    preds = preds.to(device)\n",
    "    model.to(device)\n",
    "    model.eval()\n",
    "    for x, t in tqdm(data_loader):\n",
    "        x = x.to(device)\n",
    "        x = model(x)\n",
    "        preds = torch.cat((preds, x), dim=0)\n",
    "        ids += list(map(int, t.to(\"cpu\")))\n",
    "        \n",
    "    preds = torch.squeeze(preds)\n",
    "    preds = preds.tolist()\n",
    "    prediction_df = pd.DataFrame({\"ids\": ids, \"preds\": preds})\n",
    "    return prediction_df"
   ]
  },
  {
   "cell_type": "code",
   "execution_count": 11,
   "metadata": {
    "execution": {
     "iopub.execute_input": "2020-12-24T04:23:02.473145Z",
     "iopub.status.busy": "2020-12-24T04:23:02.472432Z",
     "iopub.status.idle": "2020-12-24T04:23:02.476028Z",
     "shell.execute_reply": "2020-12-24T04:23:02.477202Z"
    },
    "papermill": {
     "duration": 0.028424,
     "end_time": "2020-12-24T04:23:02.477332",
     "exception": false,
     "start_time": "2020-12-24T04:23:02.448908",
     "status": "completed"
    },
    "tags": []
   },
   "outputs": [],
   "source": [
    "# test phase\n",
    "\n",
    "def main():\n",
    "    \n",
    "    batch_size=256*4\n",
    "    num_workers = 4\n",
    "    \n",
    "    # model config\n",
    "    num_input = len(feature_cols)\n",
    "    hidden_size = num_input*2\n",
    "    dropout = 0.3\n",
    "    num_classes = 1\n",
    "    \n",
    "    PATH = \"../input/cf-ver3/epoch8.ckpt\"\n",
    "    check_point = torch.load(PATH)\n",
    "\n",
    "    model = CFModel(num_features=num_input, hidden_size=hidden_size, dropout=dropout, num_classes=num_classes)\n",
    "    model.load_state_dict(check_point[\"state_dict\"])\n",
    "    \n",
    "    test_dataset = CFDataset(test_new)\n",
    "    test_dataloader = DataLoader(test_dataset,\n",
    "                          batch_size=batch_size,\n",
    "                          drop_last=False,\n",
    "                          num_workers=num_workers,\n",
    "                          pin_memory=True)\n",
    "    \n",
    "    submission_df = make_submission(model, test_dataloader)\n",
    "    return submission_df"
   ]
  },
  {
   "cell_type": "code",
   "execution_count": 12,
   "metadata": {
    "execution": {
     "iopub.execute_input": "2020-12-24T04:23:02.513488Z",
     "iopub.status.busy": "2020-12-24T04:23:02.512657Z",
     "iopub.status.idle": "2020-12-24T04:23:17.772689Z",
     "shell.execute_reply": "2020-12-24T04:23:17.773167Z"
    },
    "papermill": {
     "duration": 15.27972,
     "end_time": "2020-12-24T04:23:17.773294",
     "exception": false,
     "start_time": "2020-12-24T04:23:02.493574",
     "status": "completed"
    },
    "tags": []
   },
   "outputs": [
    {
     "name": "stderr",
     "output_type": "stream",
     "text": [
      "100%|██████████| 11/11 [00:11<00:00,  1.00s/it]\n"
     ]
    },
    {
     "data": {
      "text/html": [
       "<div>\n",
       "<style scoped>\n",
       "    .dataframe tbody tr th:only-of-type {\n",
       "        vertical-align: middle;\n",
       "    }\n",
       "\n",
       "    .dataframe tbody tr th {\n",
       "        vertical-align: top;\n",
       "    }\n",
       "\n",
       "    .dataframe thead th {\n",
       "        text-align: right;\n",
       "    }\n",
       "</style>\n",
       "<table border=\"1\" class=\"dataframe\">\n",
       "  <thead>\n",
       "    <tr style=\"text-align: right;\">\n",
       "      <th></th>\n",
       "      <th>ids</th>\n",
       "      <th>preds</th>\n",
       "    </tr>\n",
       "  </thead>\n",
       "  <tbody>\n",
       "    <tr>\n",
       "      <th>0</th>\n",
       "      <td>10545</td>\n",
       "      <td>0.384323</td>\n",
       "    </tr>\n",
       "    <tr>\n",
       "      <th>1</th>\n",
       "      <td>10546</td>\n",
       "      <td>0.565546</td>\n",
       "    </tr>\n",
       "    <tr>\n",
       "      <th>2</th>\n",
       "      <td>10547</td>\n",
       "      <td>0.365035</td>\n",
       "    </tr>\n",
       "    <tr>\n",
       "      <th>3</th>\n",
       "      <td>10548</td>\n",
       "      <td>0.505474</td>\n",
       "    </tr>\n",
       "    <tr>\n",
       "      <th>4</th>\n",
       "      <td>10549</td>\n",
       "      <td>0.331879</td>\n",
       "    </tr>\n",
       "    <tr>\n",
       "      <th>...</th>\n",
       "      <td>...</td>\n",
       "      <td>...</td>\n",
       "    </tr>\n",
       "    <tr>\n",
       "      <th>10539</th>\n",
       "      <td>21084</td>\n",
       "      <td>0.547159</td>\n",
       "    </tr>\n",
       "    <tr>\n",
       "      <th>10540</th>\n",
       "      <td>21085</td>\n",
       "      <td>0.561219</td>\n",
       "    </tr>\n",
       "    <tr>\n",
       "      <th>10541</th>\n",
       "      <td>21086</td>\n",
       "      <td>0.556377</td>\n",
       "    </tr>\n",
       "    <tr>\n",
       "      <th>10542</th>\n",
       "      <td>21087</td>\n",
       "      <td>0.535386</td>\n",
       "    </tr>\n",
       "    <tr>\n",
       "      <th>10543</th>\n",
       "      <td>21088</td>\n",
       "      <td>0.553216</td>\n",
       "    </tr>\n",
       "  </tbody>\n",
       "</table>\n",
       "<p>10544 rows × 2 columns</p>\n",
       "</div>"
      ],
      "text/plain": [
       "         ids     preds\n",
       "0      10545  0.384323\n",
       "1      10546  0.565546\n",
       "2      10547  0.365035\n",
       "3      10548  0.505474\n",
       "4      10549  0.331879\n",
       "...      ...       ...\n",
       "10539  21084  0.547159\n",
       "10540  21085  0.561219\n",
       "10541  21086  0.556377\n",
       "10542  21087  0.535386\n",
       "10543  21088  0.553216\n",
       "\n",
       "[10544 rows x 2 columns]"
      ]
     },
     "execution_count": 12,
     "metadata": {},
     "output_type": "execute_result"
    }
   ],
   "source": [
    "submission_df = main()\n",
    "submission_df"
   ]
  },
  {
   "cell_type": "code",
   "execution_count": 13,
   "metadata": {
    "execution": {
     "iopub.execute_input": "2020-12-24T04:23:17.806127Z",
     "iopub.status.busy": "2020-12-24T04:23:17.805443Z",
     "iopub.status.idle": "2020-12-24T04:23:17.808403Z",
     "shell.execute_reply": "2020-12-24T04:23:17.807955Z"
    },
    "papermill": {
     "duration": 0.021191,
     "end_time": "2020-12-24T04:23:17.808488",
     "exception": false,
     "start_time": "2020-12-24T04:23:17.787297",
     "status": "completed"
    },
    "tags": []
   },
   "outputs": [],
   "source": [
    "def postprocess(sub_df, threshold):\n",
    "    df = sub_df.copy()\n",
    "    preds = np.array(df[\"preds\"])\n",
    "    df[\"preds\"] = np.where(preds<threshold, 0, 1)\n",
    "    return df"
   ]
  },
  {
   "cell_type": "code",
   "execution_count": 14,
   "metadata": {
    "execution": {
     "iopub.execute_input": "2020-12-24T04:23:17.839931Z",
     "iopub.status.busy": "2020-12-24T04:23:17.838789Z",
     "iopub.status.idle": "2020-12-24T04:23:17.978526Z",
     "shell.execute_reply": "2020-12-24T04:23:17.978108Z"
    },
    "papermill": {
     "duration": 0.15681,
     "end_time": "2020-12-24T04:23:17.978620",
     "exception": false,
     "start_time": "2020-12-24T04:23:17.821810",
     "status": "completed"
    },
    "tags": []
   },
   "outputs": [
    {
     "data": {
      "text/plain": [
       "<matplotlib.axes._subplots.AxesSubplot at 0x7f201c43b490>"
      ]
     },
     "execution_count": 14,
     "metadata": {},
     "output_type": "execute_result"
    },
    {
     "data": {
      "image/png": "[encoded data removed]",
      "text/plain": [
       "<Figure size 432x288 with 1 Axes>"
      ]
     },
     "metadata": {
      "needs_background": "light"
     },
     "output_type": "display_data"
    }
   ],
   "source": [
    "sub = postprocess(submission_df, 0.54)\n",
    "plt.figure()\n",
    "sub[\"preds\"].value_counts().plot(kind=\"bar\")"
   ]
  },
  {
   "cell_type": "code",
   "execution_count": 15,
   "metadata": {
    "execution": {
     "iopub.execute_input": "2020-12-24T04:23:18.013687Z",
     "iopub.status.busy": "2020-12-24T04:23:18.012871Z",
     "iopub.status.idle": "2020-12-24T04:23:18.296722Z",
     "shell.execute_reply": "2020-12-24T04:23:18.296187Z"
    },
    "papermill": {
     "duration": 0.303625,
     "end_time": "2020-12-24T04:23:18.296843",
     "exception": false,
     "start_time": "2020-12-24T04:23:17.993218",
     "status": "completed"
    },
    "tags": []
   },
   "outputs": [],
   "source": [
    "submission_df.to_csv('submission.csv', index=False, header=False)"
   ]
  },
  {
   "cell_type": "code",
   "execution_count": null,
   "metadata": {
    "papermill": {
     "duration": 0.014298,
     "end_time": "2020-12-24T04:23:18.325920",
     "exception": false,
     "start_time": "2020-12-24T04:23:18.311622",
     "status": "completed"
    },
    "tags": []
   },
   "outputs": [],
   "source": []
  }
 ],
 "metadata": {
  "kernelspec": {
   "display_name": "Python 3",
   "language": "python",
   "name": "python3"
  },
  "language_info": {
   "codemirror_mode": {
    "name": "ipython",
    "version": 3
   },
   "file_extension": ".py",
   "mimetype": "text/x-python",
   "name": "python",
   "nbconvert_exporter": "python",
   "pygments_lexer": "ipython3",
   "version": "3.7.6"
  },
  "papermill": {
   "duration": 27.384653,
   "end_time": "2020-12-24T04:23:18.746938",
   "environment_variables": {},
   "exception": null,
   "input_path": "__notebook__.ipynb",
   "output_path": "__notebook__.ipynb",
   "parameters": {},
   "start_time": "2020-12-24T04:22:51.362285",
   "version": "2.1.0"
  }
 },
 "nbformat": 4,
 "nbformat_minor": 4
}
