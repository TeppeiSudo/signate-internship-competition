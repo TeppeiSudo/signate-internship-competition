{
 "cells": [
  {
   "cell_type": "code",
   "execution_count": 1,
   "metadata": {},
   "outputs": [],
   "source": [
    "import numpy as np\n",
    "import pandas as pd\n",
    "from tqdm import tqdm\n",
    "import matplotlib.pyplot as plt\n",
    "import sklearn\n",
    "import sklearn.metrics\n",
    "from sklearn.preprocessing import LabelEncoder\n",
    "from sklearn.metrics import log_loss\n",
    "from sklearn.model_selection import KFold\n",
    "import lightgbm as lgb"
   ]
  },
  {
   "cell_type": "code",
   "execution_count": 4,
   "metadata": {},
   "outputs": [],
   "source": [
    "train = pd.read_csv('data/train.csv')\n",
    "test = pd.read_csv('data/test.csv')\n",
    "sub = pd.read_csv('data/sample_submit.csv')"
   ]
  },
  {
   "cell_type": "code",
   "execution_count": 5,
   "metadata": {},
   "outputs": [
    {
     "data": {
      "text/html": [
       "<div>\n",
       "<style scoped>\n",
       "    .dataframe tbody tr th:only-of-type {\n",
       "        vertical-align: middle;\n",
       "    }\n",
       "\n",
       "    .dataframe tbody tr th {\n",
       "        vertical-align: top;\n",
       "    }\n",
       "\n",
       "    .dataframe thead th {\n",
       "        text-align: right;\n",
       "    }\n",
       "</style>\n",
       "<table border=\"1\" class=\"dataframe\">\n",
       "  <thead>\n",
       "    <tr style=\"text-align: right;\">\n",
       "      <th></th>\n",
       "      <th>id</th>\n",
       "      <th>goal</th>\n",
       "      <th>country</th>\n",
       "      <th>duration</th>\n",
       "      <th>category1</th>\n",
       "      <th>category2</th>\n",
       "      <th>html_content</th>\n",
       "      <th>state</th>\n",
       "    </tr>\n",
       "  </thead>\n",
       "  <tbody>\n",
       "    <tr>\n",
       "      <th>0</th>\n",
       "      <td>0</td>\n",
       "      <td>4001-5000</td>\n",
       "      <td>CH</td>\n",
       "      <td>29</td>\n",
       "      <td>publishing</td>\n",
       "      <td>young adult</td>\n",
       "      <td>&lt;div class=\"contents\"&gt;&lt;div&gt;&lt;span class=\"bold\"&gt;...</td>\n",
       "      <td>0</td>\n",
       "    </tr>\n",
       "    <tr>\n",
       "      <th>1</th>\n",
       "      <td>1</td>\n",
       "      <td>3001-4000</td>\n",
       "      <td>NL</td>\n",
       "      <td>34</td>\n",
       "      <td>fashion</td>\n",
       "      <td>ready-to-wear</td>\n",
       "      <td>&lt;div class=\"contents\"&gt;&lt;div&gt;&lt;h1 class=\"page-anc...</td>\n",
       "      <td>0</td>\n",
       "    </tr>\n",
       "    <tr>\n",
       "      <th>2</th>\n",
       "      <td>2</td>\n",
       "      <td>19001-20000</td>\n",
       "      <td>US</td>\n",
       "      <td>30</td>\n",
       "      <td>food</td>\n",
       "      <td>spaces</td>\n",
       "      <td>&lt;div class=\"contents\"&gt;&lt;div&gt;&lt;p&gt; As our society ...</td>\n",
       "      <td>0</td>\n",
       "    </tr>\n",
       "    <tr>\n",
       "      <th>3</th>\n",
       "      <td>3</td>\n",
       "      <td>2001-3000</td>\n",
       "      <td>US</td>\n",
       "      <td>41</td>\n",
       "      <td>technology</td>\n",
       "      <td>3d printing</td>\n",
       "      <td>&lt;div class=\"contents\"&gt;&lt;div&gt;&lt;p&gt;My name is Donal...</td>\n",
       "      <td>0</td>\n",
       "    </tr>\n",
       "    <tr>\n",
       "      <th>4</th>\n",
       "      <td>4</td>\n",
       "      <td>2001-3000</td>\n",
       "      <td>GB</td>\n",
       "      <td>29</td>\n",
       "      <td>technology</td>\n",
       "      <td>diy electronics</td>\n",
       "      <td>&lt;div class=\"contents\"&gt;&lt;div&gt;&lt;div class=\"templat...</td>\n",
       "      <td>1</td>\n",
       "    </tr>\n",
       "  </tbody>\n",
       "</table>\n",
       "</div>"
      ],
      "text/plain": [
       "   id         goal country  duration   category1        category2  \\\n",
       "0   0    4001-5000      CH        29  publishing      young adult   \n",
       "1   1    3001-4000      NL        34     fashion    ready-to-wear   \n",
       "2   2  19001-20000      US        30        food           spaces   \n",
       "3   3    2001-3000      US        41  technology      3d printing   \n",
       "4   4    2001-3000      GB        29  technology  diy electronics   \n",
       "\n",
       "                                        html_content  state  \n",
       "0  <div class=\"contents\"><div><span class=\"bold\">...      0  \n",
       "1  <div class=\"contents\"><div><h1 class=\"page-anc...      0  \n",
       "2  <div class=\"contents\"><div><p> As our society ...      0  \n",
       "3  <div class=\"contents\"><div><p>My name is Donal...      0  \n",
       "4  <div class=\"contents\"><div><div class=\"templat...      1  "
      ]
     },
     "execution_count": 5,
     "metadata": {},
     "output_type": "execute_result"
    }
   ],
   "source": [
    "train.head()"
   ]
  },
  {
   "cell_type": "code",
   "execution_count": 6,
   "metadata": {},
   "outputs": [
    {
     "data": {
      "text/plain": [
       "'\\ngoal : 調達目標金額のレンジ\\ncountry : 国\\nduration : プロジェクト期間日数\\ncategory1 : メインカテゴリ\\ncategory2 : サブカテゴリ\\nhtml_content : アピール文を含むHTMLの一部\\nstate : 資金調達成功＝1，失敗＝0\\n'"
      ]
     },
     "execution_count": 6,
     "metadata": {},
     "output_type": "execute_result"
    }
   ],
   "source": [
    "\"\"\"\n",
    "goal : 調達目標金額のレンジ\n",
    "country : 国\n",
    "duration : プロジェクト期間日数\n",
    "category1 : メインカテゴリ\n",
    "category2 : サブカテゴリ\n",
    "html_content : アピール文を含むHTMLの一部\n",
    "state : 資金調達成功＝1，失敗＝0\n",
    "\"\"\""
   ]
  },
  {
   "cell_type": "code",
   "execution_count": 7,
   "metadata": {},
   "outputs": [
    {
     "data": {
      "text/html": [
       "<div>\n",
       "<style scoped>\n",
       "    .dataframe tbody tr th:only-of-type {\n",
       "        vertical-align: middle;\n",
       "    }\n",
       "\n",
       "    .dataframe tbody tr th {\n",
       "        vertical-align: top;\n",
       "    }\n",
       "\n",
       "    .dataframe thead th {\n",
       "        text-align: right;\n",
       "    }\n",
       "</style>\n",
       "<table border=\"1\" class=\"dataframe\">\n",
       "  <thead>\n",
       "    <tr style=\"text-align: right;\">\n",
       "      <th></th>\n",
       "      <th>id</th>\n",
       "      <th>goal</th>\n",
       "      <th>country</th>\n",
       "      <th>duration</th>\n",
       "      <th>category1</th>\n",
       "      <th>category2</th>\n",
       "      <th>html_content</th>\n",
       "    </tr>\n",
       "  </thead>\n",
       "  <tbody>\n",
       "    <tr>\n",
       "      <th>0</th>\n",
       "      <td>10545</td>\n",
       "      <td>1-1000</td>\n",
       "      <td>US</td>\n",
       "      <td>60</td>\n",
       "      <td>dance</td>\n",
       "      <td>performances</td>\n",
       "      <td>&lt;div class=\"contents\"&gt;&lt;div&gt;&lt;p&gt;We are presentin...</td>\n",
       "    </tr>\n",
       "    <tr>\n",
       "      <th>1</th>\n",
       "      <td>10546</td>\n",
       "      <td>8001-9000</td>\n",
       "      <td>US</td>\n",
       "      <td>30</td>\n",
       "      <td>crafts</td>\n",
       "      <td>printing</td>\n",
       "      <td>&lt;div class=\"contents\"&gt;&lt;div&gt;&lt;a href=\"http://dum...</td>\n",
       "    </tr>\n",
       "    <tr>\n",
       "      <th>2</th>\n",
       "      <td>10547</td>\n",
       "      <td>9001-10000</td>\n",
       "      <td>US</td>\n",
       "      <td>60</td>\n",
       "      <td>design</td>\n",
       "      <td>product design</td>\n",
       "      <td>&lt;div class=\"contents\"&gt;&lt;div&gt;&lt;div class=\"templat...</td>\n",
       "    </tr>\n",
       "    <tr>\n",
       "      <th>3</th>\n",
       "      <td>10548</td>\n",
       "      <td>1001-2000</td>\n",
       "      <td>US</td>\n",
       "      <td>30</td>\n",
       "      <td>technology</td>\n",
       "      <td>software</td>\n",
       "      <td>&lt;div class=\"contents\"&gt;&lt;div&gt;&lt;p&gt;This is my video...</td>\n",
       "    </tr>\n",
       "    <tr>\n",
       "      <th>4</th>\n",
       "      <td>10549</td>\n",
       "      <td>4001-5000</td>\n",
       "      <td>US</td>\n",
       "      <td>59</td>\n",
       "      <td>technology</td>\n",
       "      <td>software</td>\n",
       "      <td>&lt;div class=\"contents\"&gt;&lt;div&gt;&lt;h1 class=\"page-anc...</td>\n",
       "    </tr>\n",
       "  </tbody>\n",
       "</table>\n",
       "</div>"
      ],
      "text/plain": [
       "      id        goal country  duration   category1       category2  \\\n",
       "0  10545      1-1000      US        60       dance    performances   \n",
       "1  10546   8001-9000      US        30      crafts        printing   \n",
       "2  10547  9001-10000      US        60      design  product design   \n",
       "3  10548   1001-2000      US        30  technology        software   \n",
       "4  10549   4001-5000      US        59  technology        software   \n",
       "\n",
       "                                        html_content  \n",
       "0  <div class=\"contents\"><div><p>We are presentin...  \n",
       "1  <div class=\"contents\"><div><a href=\"http://dum...  \n",
       "2  <div class=\"contents\"><div><div class=\"templat...  \n",
       "3  <div class=\"contents\"><div><p>This is my video...  \n",
       "4  <div class=\"contents\"><div><h1 class=\"page-anc...  "
      ]
     },
     "execution_count": 7,
     "metadata": {},
     "output_type": "execute_result"
    }
   ],
   "source": [
    "test.head()"
   ]
  },
  {
   "cell_type": "code",
   "execution_count": 8,
   "metadata": {},
   "outputs": [
    {
     "data": {
      "text/plain": [
       "<matplotlib.axes._subplots.AxesSubplot at 0x7ff7f9b3e4f0>"
      ]
     },
     "execution_count": 8,
     "metadata": {},
     "output_type": "execute_result"
    },
    {
     "data": {
      "image/png": "[encoded data removed]",
      "text/plain": [
       "<Figure size 864x864 with 5 Axes>"
      ]
     },
     "metadata": {
      "needs_background": "light"
     },
     "output_type": "display_data"
    }
   ],
   "source": [
    "plt.figure(figsize=(12,12))\n",
    "\n",
    "plt.subplot(3,3,1)\n",
    "plt.title('state(target)')\n",
    "train.state.value_counts().plot(kind='bar')\n",
    "\n",
    "plt.subplot(3,3,2)\n",
    "plt.title('country')\n",
    "train.country.value_counts().plot(kind='bar')\n",
    "\n",
    "plt.subplot(3,3,3)\n",
    "plt.title('duration(top20)')\n",
    "train.duration.value_counts()[:20].plot(kind='bar')\n",
    "\n",
    "plt.subplot(3,3,4)\n",
    "plt.title('category1')\n",
    "train.category1.value_counts().plot(kind='bar')\n",
    "\n",
    "plt.subplot(3,3,5)\n",
    "plt.title('category2(top20)')\n",
    "train.category2.value_counts()[:20].plot(kind='bar')"
   ]
  },
  {
   "cell_type": "code",
   "execution_count": 12,
   "metadata": {},
   "outputs": [],
   "source": [
    "def check_diff_element(train, test, column):\n",
    "    tr_elements = set(train[column])\n",
    "    tes_elements = set(test[column])\n",
    "    for tr_element in tr_elements:\n",
    "        if not tr_element in tes_elements:\n",
    "            print(f\"{tr_element} is not in {column} of test_data\")\n",
    "    for tes_element in tes_elements:\n",
    "        if not tes_element in tr_elements:\n",
    "            print(f\"{tes_element} is not in {column} of train_data\")"
   ]
  },
  {
   "cell_type": "code",
   "execution_count": 14,
   "metadata": {},
   "outputs": [
    {
     "name": "stdout",
     "output_type": "stream",
     "text": [
      "toys is not in category2 of train_data\n"
     ]
    }
   ],
   "source": [
    "check_diff_element(train, test, \"category1\")\n",
    "check_diff_element(train, test, \"category2\")\n",
    "check_diff_element(train, test, \"country\")"
   ]
  },
  {
   "cell_type": "code",
   "execution_count": 15,
   "metadata": {},
   "outputs": [
    {
     "data": {
      "text/html": [
       "<div>\n",
       "<style scoped>\n",
       "    .dataframe tbody tr th:only-of-type {\n",
       "        vertical-align: middle;\n",
       "    }\n",
       "\n",
       "    .dataframe tbody tr th {\n",
       "        vertical-align: top;\n",
       "    }\n",
       "\n",
       "    .dataframe thead th {\n",
       "        text-align: right;\n",
       "    }\n",
       "</style>\n",
       "<table border=\"1\" class=\"dataframe\">\n",
       "  <thead>\n",
       "    <tr style=\"text-align: right;\">\n",
       "      <th></th>\n",
       "      <th>id</th>\n",
       "      <th>goal</th>\n",
       "      <th>country</th>\n",
       "      <th>duration</th>\n",
       "      <th>category1</th>\n",
       "      <th>category2</th>\n",
       "      <th>html_content</th>\n",
       "    </tr>\n",
       "  </thead>\n",
       "  <tbody>\n",
       "    <tr>\n",
       "      <th>9551</th>\n",
       "      <td>20096</td>\n",
       "      <td>22001-23000</td>\n",
       "      <td>DE</td>\n",
       "      <td>30</td>\n",
       "      <td>design</td>\n",
       "      <td>toys</td>\n",
       "      <td>&lt;div class=\"contents\"&gt;&lt;div&gt;&lt;h1 class=\"page-anc...</td>\n",
       "    </tr>\n",
       "  </tbody>\n",
       "</table>\n",
       "</div>"
      ],
      "text/plain": [
       "         id         goal country  duration category1 category2  \\\n",
       "9551  20096  22001-23000      DE        30    design      toys   \n",
       "\n",
       "                                           html_content  \n",
       "9551  <div class=\"contents\"><div><h1 class=\"page-anc...  "
      ]
     },
     "execution_count": 15,
     "metadata": {},
     "output_type": "execute_result"
    }
   ],
   "source": [
    "test[test[\"category2\"] == \"toys\"]"
   ]
  },
  {
   "cell_type": "code",
   "execution_count": 16,
   "metadata": {},
   "outputs": [
    {
     "name": "stderr",
     "output_type": "stream",
     "text": [
      "  0%|          | 0/10545 [00:00<?, ?it/s]<ipython-input-16-cf12af63ff78>:5: SettingWithCopyWarning: \n",
      "A value is trying to be set on a copy of a slice from a DataFrame\n",
      "\n",
      "See the caveats in the documentation: https://pandas.pydata.org/pandas-docs/stable/user_guide/indexing.html#returning-a-view-versus-a-copy\n",
      "  df[\"goal_min\"][n], df[\"goal_max\"][n] = map(int, df[\"goal\"][n].split('-'))\n",
      "<ipython-input-16-cf12af63ff78>:7: SettingWithCopyWarning: \n",
      "A value is trying to be set on a copy of a slice from a DataFrame\n",
      "\n",
      "See the caveats in the documentation: https://pandas.pydata.org/pandas-docs/stable/user_guide/indexing.html#returning-a-view-versus-a-copy\n",
      "  df[\"goal_min\"][n] = int(df[\"goal\"][n].rstrip('+'))\n",
      "<ipython-input-16-cf12af63ff78>:8: SettingWithCopyWarning: \n",
      "A value is trying to be set on a copy of a slice from a DataFrame\n",
      "\n",
      "See the caveats in the documentation: https://pandas.pydata.org/pandas-docs/stable/user_guide/indexing.html#returning-a-view-versus-a-copy\n",
      "  df[\"goal_max\"][n] = np.nan\n",
      "/Applications/anaconda3/lib/python3.8/site-packages/pandas/core/indexing.py:671: SettingWithCopyWarning: \n",
      "A value is trying to be set on a copy of a slice from a DataFrame\n",
      "\n",
      "See the caveats in the documentation: https://pandas.pydata.org/pandas-docs/stable/user_guide/indexing.html#returning-a-view-versus-a-copy\n",
      "  self._setitem_with_indexer(indexer, value)\n",
      "100%|██████████| 10545/10545 [00:01<00:00, 5494.15it/s]\n"
     ]
    },
    {
     "data": {
      "text/html": [
       "<div>\n",
       "<style scoped>\n",
       "    .dataframe tbody tr th:only-of-type {\n",
       "        vertical-align: middle;\n",
       "    }\n",
       "\n",
       "    .dataframe tbody tr th {\n",
       "        vertical-align: top;\n",
       "    }\n",
       "\n",
       "    .dataframe thead th {\n",
       "        text-align: right;\n",
       "    }\n",
       "</style>\n",
       "<table border=\"1\" class=\"dataframe\">\n",
       "  <thead>\n",
       "    <tr style=\"text-align: right;\">\n",
       "      <th></th>\n",
       "      <th>id</th>\n",
       "      <th>goal</th>\n",
       "      <th>country</th>\n",
       "      <th>duration</th>\n",
       "      <th>category1</th>\n",
       "      <th>category2</th>\n",
       "      <th>html_content</th>\n",
       "      <th>state</th>\n",
       "      <th>goal_min</th>\n",
       "      <th>goal_max</th>\n",
       "    </tr>\n",
       "  </thead>\n",
       "  <tbody>\n",
       "    <tr>\n",
       "      <th>0</th>\n",
       "      <td>0</td>\n",
       "      <td>4001-5000</td>\n",
       "      <td>CH</td>\n",
       "      <td>29</td>\n",
       "      <td>publishing</td>\n",
       "      <td>young adult</td>\n",
       "      <td>&lt;div class=\"contents\"&gt;&lt;div&gt;&lt;span class=\"bold\"&gt;...</td>\n",
       "      <td>0</td>\n",
       "      <td>4001</td>\n",
       "      <td>5000.0</td>\n",
       "    </tr>\n",
       "    <tr>\n",
       "      <th>1</th>\n",
       "      <td>1</td>\n",
       "      <td>3001-4000</td>\n",
       "      <td>NL</td>\n",
       "      <td>34</td>\n",
       "      <td>fashion</td>\n",
       "      <td>ready-to-wear</td>\n",
       "      <td>&lt;div class=\"contents\"&gt;&lt;div&gt;&lt;h1 class=\"page-anc...</td>\n",
       "      <td>0</td>\n",
       "      <td>3001</td>\n",
       "      <td>4000.0</td>\n",
       "    </tr>\n",
       "    <tr>\n",
       "      <th>2</th>\n",
       "      <td>2</td>\n",
       "      <td>19001-20000</td>\n",
       "      <td>US</td>\n",
       "      <td>30</td>\n",
       "      <td>food</td>\n",
       "      <td>spaces</td>\n",
       "      <td>&lt;div class=\"contents\"&gt;&lt;div&gt;&lt;p&gt; As our society ...</td>\n",
       "      <td>0</td>\n",
       "      <td>19001</td>\n",
       "      <td>20000.0</td>\n",
       "    </tr>\n",
       "    <tr>\n",
       "      <th>3</th>\n",
       "      <td>3</td>\n",
       "      <td>2001-3000</td>\n",
       "      <td>US</td>\n",
       "      <td>41</td>\n",
       "      <td>technology</td>\n",
       "      <td>3d printing</td>\n",
       "      <td>&lt;div class=\"contents\"&gt;&lt;div&gt;&lt;p&gt;My name is Donal...</td>\n",
       "      <td>0</td>\n",
       "      <td>2001</td>\n",
       "      <td>3000.0</td>\n",
       "    </tr>\n",
       "    <tr>\n",
       "      <th>4</th>\n",
       "      <td>4</td>\n",
       "      <td>2001-3000</td>\n",
       "      <td>GB</td>\n",
       "      <td>29</td>\n",
       "      <td>technology</td>\n",
       "      <td>diy electronics</td>\n",
       "      <td>&lt;div class=\"contents\"&gt;&lt;div&gt;&lt;div class=\"templat...</td>\n",
       "      <td>1</td>\n",
       "      <td>2001</td>\n",
       "      <td>3000.0</td>\n",
       "    </tr>\n",
       "    <tr>\n",
       "      <th>5</th>\n",
       "      <td>5</td>\n",
       "      <td>1-1000</td>\n",
       "      <td>US</td>\n",
       "      <td>19</td>\n",
       "      <td>photography</td>\n",
       "      <td>fine art</td>\n",
       "      <td>&lt;div class=\"contents\"&gt;&lt;div&gt;&lt;h1 class=\"page-anc...</td>\n",
       "      <td>1</td>\n",
       "      <td>1</td>\n",
       "      <td>1000.0</td>\n",
       "    </tr>\n",
       "    <tr>\n",
       "      <th>6</th>\n",
       "      <td>6</td>\n",
       "      <td>3001-4000</td>\n",
       "      <td>GB</td>\n",
       "      <td>59</td>\n",
       "      <td>fashion</td>\n",
       "      <td>apparel</td>\n",
       "      <td>&lt;div class=\"contents\"&gt;&lt;div&gt;&lt;p&gt;We are raising f...</td>\n",
       "      <td>0</td>\n",
       "      <td>3001</td>\n",
       "      <td>4000.0</td>\n",
       "    </tr>\n",
       "    <tr>\n",
       "      <th>7</th>\n",
       "      <td>7</td>\n",
       "      <td>1-1000</td>\n",
       "      <td>US</td>\n",
       "      <td>20</td>\n",
       "      <td>art</td>\n",
       "      <td>mixed media</td>\n",
       "      <td>&lt;div class=\"contents\"&gt;&lt;div&gt;&lt;p&gt;Hello world,&lt;/p&gt;...</td>\n",
       "      <td>1</td>\n",
       "      <td>1</td>\n",
       "      <td>1000.0</td>\n",
       "    </tr>\n",
       "    <tr>\n",
       "      <th>8</th>\n",
       "      <td>8</td>\n",
       "      <td>2001-3000</td>\n",
       "      <td>US</td>\n",
       "      <td>28</td>\n",
       "      <td>publishing</td>\n",
       "      <td>periodicals</td>\n",
       "      <td>&lt;div class=\"contents\"&gt;&lt;div&gt;&lt;p&gt;You are cool wit...</td>\n",
       "      <td>1</td>\n",
       "      <td>2001</td>\n",
       "      <td>3000.0</td>\n",
       "    </tr>\n",
       "    <tr>\n",
       "      <th>9</th>\n",
       "      <td>9</td>\n",
       "      <td>1001-2000</td>\n",
       "      <td>GB</td>\n",
       "      <td>21</td>\n",
       "      <td>film &amp; video</td>\n",
       "      <td>documentary</td>\n",
       "      <td>&lt;div class=\"contents\"&gt;&lt;div&gt;&lt;h1 class=\"page-anc...</td>\n",
       "      <td>1</td>\n",
       "      <td>1001</td>\n",
       "      <td>2000.0</td>\n",
       "    </tr>\n",
       "    <tr>\n",
       "      <th>10</th>\n",
       "      <td>10</td>\n",
       "      <td>11001-12000</td>\n",
       "      <td>CA</td>\n",
       "      <td>29</td>\n",
       "      <td>dance</td>\n",
       "      <td>spaces</td>\n",
       "      <td>&lt;div class=\"contents\"&gt;&lt;div&gt;&lt;p&gt;JUST BE YOURSELF...</td>\n",
       "      <td>0</td>\n",
       "      <td>11001</td>\n",
       "      <td>12000.0</td>\n",
       "    </tr>\n",
       "    <tr>\n",
       "      <th>11</th>\n",
       "      <td>11</td>\n",
       "      <td>4001-5000</td>\n",
       "      <td>US</td>\n",
       "      <td>30</td>\n",
       "      <td>design</td>\n",
       "      <td>graphic design</td>\n",
       "      <td>&lt;div class=\"contents\"&gt;&lt;div&gt;&lt;p&gt;&lt;span class=\"bol...</td>\n",
       "      <td>0</td>\n",
       "      <td>4001</td>\n",
       "      <td>5000.0</td>\n",
       "    </tr>\n",
       "    <tr>\n",
       "      <th>12</th>\n",
       "      <td>12</td>\n",
       "      <td>100000+</td>\n",
       "      <td>US</td>\n",
       "      <td>35</td>\n",
       "      <td>film &amp; video</td>\n",
       "      <td>animation</td>\n",
       "      <td>&lt;div class=\"contents\"&gt;&lt;div&gt;&lt;p&gt;The story follow...</td>\n",
       "      <td>0</td>\n",
       "      <td>100000</td>\n",
       "      <td>NaN</td>\n",
       "    </tr>\n",
       "  </tbody>\n",
       "</table>\n",
       "</div>"
      ],
      "text/plain": [
       "    id         goal country  duration     category1        category2  \\\n",
       "0    0    4001-5000      CH        29    publishing      young adult   \n",
       "1    1    3001-4000      NL        34       fashion    ready-to-wear   \n",
       "2    2  19001-20000      US        30          food           spaces   \n",
       "3    3    2001-3000      US        41    technology      3d printing   \n",
       "4    4    2001-3000      GB        29    technology  diy electronics   \n",
       "5    5       1-1000      US        19   photography         fine art   \n",
       "6    6    3001-4000      GB        59       fashion          apparel   \n",
       "7    7       1-1000      US        20           art      mixed media   \n",
       "8    8    2001-3000      US        28    publishing      periodicals   \n",
       "9    9    1001-2000      GB        21  film & video      documentary   \n",
       "10  10  11001-12000      CA        29         dance           spaces   \n",
       "11  11    4001-5000      US        30        design   graphic design   \n",
       "12  12      100000+      US        35  film & video        animation   \n",
       "\n",
       "                                         html_content  state  goal_min  \\\n",
       "0   <div class=\"contents\"><div><span class=\"bold\">...      0      4001   \n",
       "1   <div class=\"contents\"><div><h1 class=\"page-anc...      0      3001   \n",
       "2   <div class=\"contents\"><div><p> As our society ...      0     19001   \n",
       "3   <div class=\"contents\"><div><p>My name is Donal...      0      2001   \n",
       "4   <div class=\"contents\"><div><div class=\"templat...      1      2001   \n",
       "5   <div class=\"contents\"><div><h1 class=\"page-anc...      1         1   \n",
       "6   <div class=\"contents\"><div><p>We are raising f...      0      3001   \n",
       "7   <div class=\"contents\"><div><p>Hello world,</p>...      1         1   \n",
       "8   <div class=\"contents\"><div><p>You are cool wit...      1      2001   \n",
       "9   <div class=\"contents\"><div><h1 class=\"page-anc...      1      1001   \n",
       "10  <div class=\"contents\"><div><p>JUST BE YOURSELF...      0     11001   \n",
       "11  <div class=\"contents\"><div><p><span class=\"bol...      0      4001   \n",
       "12  <div class=\"contents\"><div><p>The story follow...      0    100000   \n",
       "\n",
       "    goal_max  \n",
       "0     5000.0  \n",
       "1     4000.0  \n",
       "2    20000.0  \n",
       "3     3000.0  \n",
       "4     3000.0  \n",
       "5     1000.0  \n",
       "6     4000.0  \n",
       "7     1000.0  \n",
       "8     3000.0  \n",
       "9     2000.0  \n",
       "10   12000.0  \n",
       "11    5000.0  \n",
       "12       NaN  "
      ]
     },
     "execution_count": 16,
     "metadata": {},
     "output_type": "execute_result"
    }
   ],
   "source": [
    "def add_column_about_goalrange(df):\n",
    "    df[\"goal_min\"] = df[\"goal_max\"] = 0\n",
    "    for n in tqdm(range(len(df))):\n",
    "        try:\n",
    "            df[\"goal_min\"][n], df[\"goal_max\"][n] = map(int, df[\"goal\"][n].split('-'))\n",
    "        except:\n",
    "            df[\"goal_min\"][n] = int(df[\"goal\"][n].rstrip('+'))\n",
    "            df[\"goal_max\"][n] = np.nan\n",
    "    return df\n",
    "\n",
    "train_added = add_column_about_goalrange(train)\n",
    "train_added.head(13)"
   ]
  },
  {
   "cell_type": "code",
   "execution_count": 8,
   "metadata": {},
   "outputs": [
    {
     "data": {
      "text/plain": [
       "0         5000.0\n",
       "1         4000.0\n",
       "2        20000.0\n",
       "3         3000.0\n",
       "4         3000.0\n",
       "          ...   \n",
       "10540     1000.0\n",
       "10541     1000.0\n",
       "10542    20000.0\n",
       "10543     1000.0\n",
       "10544    75000.0\n",
       "Name: goal_max, Length: 10545, dtype: float64"
      ]
     },
     "execution_count": 8,
     "metadata": {},
     "output_type": "execute_result"
    }
   ],
   "source": [
    "train.goal_max"
   ]
  },
  {
   "cell_type": "code",
   "execution_count": 9,
   "metadata": {},
   "outputs": [
    {
     "data": {
      "text/plain": [
       "array(['CH', 'NL', 'US', 'GB', 'CA', 'ES', 'FR', 'DE', 'AU', 'IT', 'MX',\n",
       "       'NZ', 'NO', 'DK', 'HK', 'SG', 'BE', 'SE', 'IE', 'JP', 'AT', 'LU'],\n",
       "      dtype=object)"
      ]
     },
     "execution_count": 9,
     "metadata": {},
     "output_type": "execute_result"
    }
   ],
   "source": [
    "train.country.unique()"
   ]
  },
  {
   "cell_type": "code",
   "execution_count": 10,
   "metadata": {},
   "outputs": [
    {
     "data": {
      "text/plain": [
       "array([29, 34, 30, 41, 19, 59, 20, 28, 21, 35, 27, 60, 40, 33, 31, 39, 44,\n",
       "       54, 25, 22, 45,  8, 53, 48, 18, 14, 24, 32, 36, 57, 38, 50, 15, 58,\n",
       "        3,  2, 47, 26, 43,  7, 23, 12, 42, 37, 56, 10, 89, 13, 55, 11, 16,\n",
       "        9, 49, 52, 17, 61,  4, 51, 46,  6,  5, 74, 70, 81, 90,  1, 72, 85,\n",
       "       76, 80, 84, 71, 86])"
      ]
     },
     "execution_count": 10,
     "metadata": {},
     "output_type": "execute_result"
    }
   ],
   "source": [
    "train.duration.unique()"
   ]
  },
  {
   "cell_type": "code",
   "execution_count": 11,
   "metadata": {},
   "outputs": [
    {
     "data": {
      "text/plain": [
       "array(['publishing', 'fashion', 'food', 'technology', 'photography',\n",
       "       'art', 'film & video', 'dance', 'design', 'games', 'journalism',\n",
       "       'music', 'comics', 'theater', 'crafts'], dtype=object)"
      ]
     },
     "execution_count": 11,
     "metadata": {},
     "output_type": "execute_result"
    }
   ],
   "source": [
    "train.category1.unique()"
   ]
  },
  {
   "cell_type": "code",
   "execution_count": 12,
   "metadata": {},
   "outputs": [
    {
     "data": {
      "text/plain": [
       "array(['young adult', 'ready-to-wear', 'spaces', '3d printing',\n",
       "       'diy electronics', 'fine art', 'apparel', 'mixed media',\n",
       "       'periodicals', 'documentary', 'graphic design', 'animation',\n",
       "       'fantasy', 'gaming hardware', 'performance art', 'shorts', 'print',\n",
       "       'video games', 'photobooks', 'flight', 'indie rock', 'nonfiction',\n",
       "       'drinks', 'public art', 'vegan', 'science fiction',\n",
       "       'playing cards', 'fiction', 'performances', 'webcomics',\n",
       "       'conceptual art', 'accessories', 'hip-hop', 'wearables',\n",
       "       'music videos', 'pop', 'digital art', 'video', 'country & folk',\n",
       "       'art books', 'calendars', 'plays', 'restaurants', 'food trucks',\n",
       "       'live games', 'horror', 'rock', 'comedy', 'narrative film',\n",
       "       'electronic music', 'places', 'people', 'immersive', 'woodworking',\n",
       "       'jazz', 'civic design', 'webseries', \"farmer's markets\",\n",
       "       'footwear', 'classical music', 'interactive design', 'jewelry',\n",
       "       'mobile games', 'illustration', 'festivals', 'ceramics', 'glass',\n",
       "       'small batch', 'web', 'sound', 'television', 'poetry', 'diy',\n",
       "       'sculpture', 'painting', 'software', 'hardware', 'academic',\n",
       "       \"children's books\", 'architecture', 'literary journals', 'faith',\n",
       "       'family', 'camera equipment', 'gadgets', 'childrenswear',\n",
       "       'experimental', 'product design', 'translations', 'drama',\n",
       "       'installations', 'comic books', 'anthologies', 'latin',\n",
       "       'video art', 'events', 'world music', 'action', 'pottery',\n",
       "       'cookbooks', 'romance', 'thrillers', 'farms', 'apps', 'robots',\n",
       "       'audio', 'nature', 'residencies', 'punk', 'graphic novels',\n",
       "       'radio & podcasts', 'weaving', 'tabletop games', 'photo', 'r&b',\n",
       "       'stationery', 'space exploration', 'textiles', 'zines', 'metal',\n",
       "       'community gardens', 'movie theaters', 'fabrication tools',\n",
       "       'musical', 'couture', 'pet fashion', 'crochet', 'embroidery',\n",
       "       'makerspaces', 'candles', 'bacon', 'puzzles', 'knitting', 'quilts',\n",
       "       'animals', 'typography', 'workshops', 'printing', 'blues', 'kids',\n",
       "       'letterpress', 'literary spaces', 'social practice', 'chiptune'],\n",
       "      dtype=object)"
      ]
     },
     "execution_count": 12,
     "metadata": {},
     "output_type": "execute_result"
    }
   ],
   "source": [
    "train.category2.unique()"
   ]
  },
  {
   "cell_type": "code",
   "execution_count": 13,
   "metadata": {},
   "outputs": [
    {
     "data": {
      "text/plain": [
       "0        <div class=\"contents\"><div><span class=\"bold\">...\n",
       "1        <div class=\"contents\"><div><h1 class=\"page-anc...\n",
       "2        <div class=\"contents\"><div><p> As our society ...\n",
       "3        <div class=\"contents\"><div><p>My name is Donal...\n",
       "4        <div class=\"contents\"><div><div class=\"templat...\n",
       "                               ...                        \n",
       "10540    <div class=\"contents\"><div><h1 class=\"page-anc...\n",
       "10541    <div class=\"contents\"><div><p>This past Novemb...\n",
       "10542    <div class=\"contents\"><div><p><span class=\"bol...\n",
       "10543    <div class=\"contents\"><div><h1 class=\"page-anc...\n",
       "10544    <div class=\"contents\"><div><p>Do you take your...\n",
       "Name: html_content, Length: 10545, dtype: object"
      ]
     },
     "execution_count": 13,
     "metadata": {},
     "output_type": "execute_result"
    }
   ],
   "source": [
    "train.html_content"
   ]
  },
  {
   "cell_type": "code",
   "execution_count": 21,
   "metadata": {},
   "outputs": [],
   "source": [
    "html_0 = train.html_content[0]"
   ]
  },
  {
   "cell_type": "code",
   "execution_count": 25,
   "metadata": {},
   "outputs": [
    {
     "name": "stdout",
     "output_type": "stream",
     "text": [
      "<div class=\"contents\"><div><span class=\"bold\">Mark Saggia</span> is an Italian writer who emigrated in Switzerland.<p>He is a Nerd, Star Wars, Marvel Comics and videogames Fanatic! IT's part of his entire life.</p><p>The story born when Mark, thinking about The Big Bang Theory, understood that what's missing in the world is a nerd story for who loves videogames and all \"things\" like this. A story wrote in typical nerd language.</p><p>The book has been published in Italian. It can be found at amazon.it or via Facebook. You can find some info at <a href=\"http://dummy.com\" to a large one, who wouldn't have respect for his ideas. </p><p>They can do many things, sometimes only for money, that's not our idea of success. </p><p>This means that our small, unique, caring publisher, can’t reach the USA. No matter how hard they tries.</p><p>Money for printing, find someone for distribution, marketing and other things are needed. </p><p>So we ventured to USA. We searched and searched….and finally found someone that can help us distribute in the USA. </p><p>This is where you come in…..we’d like you to participate in this project, to help an average person have success that he worked so hard for.</p><p>The english translation is in production, we have an american team working on it.\n",
      "\n",
      "We have too some \"open doors\" in movies business... but as previously stated, we need first to distribute in USA.</p><p>If you help us, this project will peogress, and you can say: \"Yes, I participated to the worldwide success of The Game's Saga.\"</p><p>Your money will be used only to pay the printer, and the marketing. At anytime you can ask any questions about how the money is being spent.\n",
      " </p><p>Now it's good to tell about the book.</p><p>Here some pictures, plot and other things:</p><p><span class=\"bold\">THE GAME 1.0</span> is the story about three nerds, three friends that find the                                                                way to create something amazing: life!</p><p>What would you do if you could create life through                                                                          programing code instead of atoms? </p><p>What would you do if you could create a real life and a live                                                            videogame? \n",
      "                          </p><p>And would you be strong enough to control it?</p><p><span class=\"bold\">THAT THE GAME BEGIN! </span></p><p><span class=\"bold\"> A LITTLE BIT OF LEVEL ONE </span><span class=\"bold\">(yes the book is not in Chapters but in levels...): </span></p><p><span class=\"bold\">THE GAME 1.0\n",
      "\n",
      "LEVEL ONE</span></p><p>\"\"I think I was like 6 years old the first time I played a videogame. It was a 2D videogame. There was a primitive man running with his club and you had to hit dinosaurs with it. I remember thinking at my dad as a genius: no matter the damage, he always knew how to make a computer work. I just stared at him in awe. I remember talking about him at school, explaining how to do a complete format. He was my hero...\"\"</p><p><span class=\"bold\">ABOUT THE AUTHOR:</span></p><div class=\"template asset\" contenteditable=\"false\" data-alt-text=\"\" data-caption=\"\" data-id=\"_xxx_\">\n",
      "<figure>\n",
      "<img alt=\"\" class=\"fit lazyload\" data-src=\"http://dummy.com\"/>\n",
      "</figure>\n",
      "</div>\n",
      "<p><span class=\"bold\">Software name:</span> Mark Saggia 1.0 </p><p><span class=\"bold\">Programming year:</span> 1986</p><p><span class=\"bold\">Size:</span> 1740 mm</p><p><span class=\"bold\">Weight:</span> not found </p><p><span class=\"bold\">Technical informations:</span>\n",
      "\n",
      "Always hungry, Nerd to the bones, It's better to give him a gift that pay his dinner.</p><p><span class=\"bold\">Details:</span>\n",
      "\n",
      "The force is strong with this guy, he love Star Wars\n",
      "70's music! Lynyrd Skynyrd in heart!\n",
      "Marvel forever! </p><p><span class=\"bold\">Biography:</span> </p><p>\"\" I'm born in 1986 in the north side of Italy, close to Torin.\n",
      "\n",
      "I grow up like all the other guys, playing videogames... i start with Caveman, was amazing...\n",
      "\n",
      "With the passing of time i start to like Star Wars, Matrix and other movies that inspire me.\n",
      "\n",
      "Finally i move from Italy to Switzerland, job is not easy to find in Italy \n",
      "\n",
      "I wrote The game in a bad moment of my life, it help me to thing that i'm not a poor shit like my father first and other, made me think.\n",
      "\n",
      "I create a story, with a lot of me inside... i can call him Junior...\n",
      "\n",
      "I'm married, with a special girl, that love me uncoditionally, that's hard to find...\n",
      "\n",
      "I love too the american thinking style... Europe have a \"closed mind\" in all concern artistic things, and if you don't know some VIP, you'll done nothing... i love the fact, you americaner, believe in your projects and help other to make possible their dreams... Sorry for my english, but i'm Italian... :)\n",
      "\n",
      "Mark</p><p><span class=\"bold\">Some pictures about the italian book presentation:</span></p><div class=\"template asset\" contenteditable=\"false\" data-alt-text=\"\" data-caption=\"\" data-id=\"_xxx_\">\n",
      "<figure>\n",
      "<img alt=\"\" class=\"fit lazyload\" data-src=\"http://dummy.com\"/>\n",
      "</figure>\n",
      "</div>\n",
      "<div class=\"template asset\" contenteditable=\"false\" data-alt-text=\"\" data-caption=\"\" data-id=\"_xxx_\">\n",
      "<figure>\n",
      "<img alt=\"\" class=\"fit lazyload\" data-src=\"http://dummy.com\"/>\n",
      "</figure>\n",
      "</div>\n",
      "<div class=\"template asset\" contenteditable=\"false\" data-alt-text=\"\" data-caption=\"\" data-id=\"_xxx_\">\n",
      "<figure>\n",
      "<img alt=\"\" class=\"fit lazyload\" data-src=\"http://dummy.com\"/>\n",
      "</figure>\n",
      "</div>\n",
      "<div class=\"template asset\" contenteditable=\"false\" data-alt-text=\"\" data-caption=\"\" data-id=\"_xxx_\">\n",
      "<figure>\n",
      "<img alt=\"\" class=\"fit lazyload\" data-src=\"http://dummy.com\"/>\n",
      "</figure>\n",
      "</div>\n",
      "<p>The presentation was a success! </p><p> We had girls outside the mall distributing cards of The Game, and a lot of people came in the shop searching us. That was amazing... When people ear about the story of The Game, start to be entusiastic and want to buy and read the book.</p><p><span class=\"bold\">THE LOGO: </span></p><div class=\"template asset\" contenteditable=\"false\" data-alt-text=\"\" data-caption=\"\" data-id=\"_xxx_\">\n",
      "<figure>\n",
      "<img alt=\"\" class=\"fit lazyload\" data-src=\"http://dummy.com\"/>\n",
      "</figure>\n",
      "</div>\n",
      "<p>Thinked by Mark and designed by a professional graphic, the Logo 1.0 explain all the most important things of the book.\n",
      "\n",
      "In the center you can see the USB and Wi-FI logo, that because all the technologies that make possible to bring life and to make possible to have a real videogame, are maded by it.</p><p>In left you can see the Rackarong's tail.\n",
      "\n",
      "The Rackarong is a strong-powerful-bad boy-ungry beast, with long venom knifes in his tail. It's so dangerous.</p><p>Most important problem... he is so intelligent, you can understaind that will create some troubles...\n",
      "\n",
      "In right you can see a classic elfic symbol: the branch of ivy. This because, if you can create a videogame, normally you think in a shooter game or in a fantasy game right?</p><p>The Game is a fantasy game, so one of the strong allied you can have it's an elf. The most powerful elf is Eigor, a white elf of the lands of Gratmar. He will help you to win the battle for the salvation not only of your life, but of humanity...</p><p>We explained you some things about The Game 1.0, the new saga... we hope \"the definitive saga\".</p><p>The saga will be of 6 book, so that the story, or better,</p><p><span class=\"bold\">THAT THE GAME BEGIN! </span></p><p><span class=\"bold\">Ps: if the project will not work, Mark will cry a lot... we don't want this right? ;-)</span></p></div></div>\n"
     ]
    }
   ],
   "source": [
    "print(html_0)"
   ]
  },
  {
   "cell_type": "code",
   "execution_count": 30,
   "metadata": {},
   "outputs": [],
   "source": [
    "import nltk\n",
    "from bs4 import BeautifulSoup"
   ]
  },
  {
   "cell_type": "code",
   "execution_count": 32,
   "metadata": {},
   "outputs": [],
   "source": [
    "raw = BeautifulSoup(html_0).get_text()"
   ]
  },
  {
   "cell_type": "code",
   "execution_count": 34,
   "metadata": {},
   "outputs": [
    {
     "name": "stdout",
     "output_type": "stream",
     "text": [
      "Mark Saggia is an Italian writer who emigrated in Switzerland.He is a Nerd, Star Wars, Marvel Comics and videogames Fanatic! IT's part of his entire life.The story born when Mark, thinking about The Big Bang Theory, understood that what's missing in the world is a nerd story for who loves videogames and all \"things\" like this. A story wrote in typical nerd language.The book has been published in Italian. It can be found at amazon.it or via Facebook. You can find some info at They can do many things, sometimes only for money, that's not our idea of success. This means that our small, unique, caring publisher, can’t reach the USA. No matter how hard they tries.Money for printing, find someone for distribution, marketing and other things are needed. So we ventured to USA. We searched and searched….and finally found someone that can help us distribute in the USA. This is where you come in…..we’d like you to participate in this project, to help an average person have success that he worked so hard for.The english translation is in production, we have an american team working on it.\n",
      "\n",
      "We have too some \"open doors\" in movies business... but as previously stated, we need first to distribute in USA.If you help us, this project will peogress, and you can say: \"Yes, I participated to the worldwide success of The Game's Saga.\"Your money will be used only to pay the printer, and the marketing. At anytime you can ask any questions about how the money is being spent.\n",
      " Now it's good to tell about the book.Here some pictures, plot and other things:THE GAME 1.0 is the story about three nerds, three friends that find the                                                                way to create something amazing: life!What would you do if you could create life through                                                                          programing code instead of atoms? What would you do if you could create a real life and a live                                                            videogame? \n",
      "                          And would you be strong enough to control it?THAT THE GAME BEGIN!  A LITTLE BIT OF LEVEL ONE (yes the book is not in Chapters but in levels...): THE GAME 1.0\n",
      "\n",
      "LEVEL ONE\"\"I think I was like 6 years old the first time I played a videogame. It was a 2D videogame. There was a primitive man running with his club and you had to hit dinosaurs with it. I remember thinking at my dad as a genius: no matter the damage, he always knew how to make a computer work. I just stared at him in awe. I remember talking about him at school, explaining how to do a complete format. He was my hero...\"\"ABOUT THE AUTHOR:\n",
      "\n",
      "\n",
      "\n",
      "\n",
      "Software name: Mark Saggia 1.0 Programming year: 1986Size: 1740 mmWeight: not found Technical informations:\n",
      "\n",
      "Always hungry, Nerd to the bones, It's better to give him a gift that pay his dinner.Details:\n",
      "\n",
      "The force is strong with this guy, he love Star Wars\n",
      "70's music! Lynyrd Skynyrd in heart!\n",
      "Marvel forever! Biography: \"\" I'm born in 1986 in the north side of Italy, close to Torin.\n",
      "\n",
      "I grow up like all the other guys, playing videogames... i start with Caveman, was amazing...\n",
      "\n",
      "With the passing of time i start to like Star Wars, Matrix and other movies that inspire me.\n",
      "\n",
      "Finally i move from Italy to Switzerland, job is not easy to find in Italy \n",
      "\n",
      "I wrote The game in a bad moment of my life, it help me to thing that i'm not a poor shit like my father first and other, made me think.\n",
      "\n",
      "I create a story, with a lot of me inside... i can call him Junior...\n",
      "\n",
      "I'm married, with a special girl, that love me uncoditionally, that's hard to find...\n",
      "\n",
      "I love too the american thinking style... Europe have a \"closed mind\" in all concern artistic things, and if you don't know some VIP, you'll done nothing... i love the fact, you americaner, believe in your projects and help other to make possible their dreams... Sorry for my english, but i'm Italian... :)\n",
      "\n",
      "MarkSome pictures about the italian book presentation:\n",
      "\n",
      "\n",
      "\n",
      "\n",
      "\n",
      "\n",
      "\n",
      "\n",
      "\n",
      "\n",
      "\n",
      "\n",
      "\n",
      "\n",
      "\n",
      "\n",
      "\n",
      "\n",
      "\n",
      "The presentation was a success!  We had girls outside the mall distributing cards of The Game, and a lot of people came in the shop searching us. That was amazing... When people ear about the story of The Game, start to be entusiastic and want to buy and read the book.THE LOGO: \n",
      "\n",
      "\n",
      "\n",
      "\n",
      "Thinked by Mark and designed by a professional graphic, the Logo 1.0 explain all the most important things of the book.\n",
      "\n",
      "In the center you can see the USB and Wi-FI logo, that because all the technologies that make possible to bring life and to make possible to have a real videogame, are maded by it.In left you can see the Rackarong's tail.\n",
      "\n",
      "The Rackarong is a strong-powerful-bad boy-ungry beast, with long venom knifes in his tail. It's so dangerous.Most important problem... he is so intelligent, you can understaind that will create some troubles...\n",
      "\n",
      "In right you can see a classic elfic symbol: the branch of ivy. This because, if you can create a videogame, normally you think in a shooter game or in a fantasy game right?The Game is a fantasy game, so one of the strong allied you can have it's an elf. The most powerful elf is Eigor, a white elf of the lands of Gratmar. He will help you to win the battle for the salvation not only of your life, but of humanity...We explained you some things about The Game 1.0, the new saga... we hope \"the definitive saga\".The saga will be of 6 book, so that the story, or better,THAT THE GAME BEGIN! Ps: if the project will not work, Mark will cry a lot... we don't want this right? ;-)\n"
     ]
    }
   ],
   "source": [
    "print(raw)"
   ]
  },
  {
   "cell_type": "code",
   "execution_count": null,
   "metadata": {},
   "outputs": [],
   "source": []
  }
 ],
 "metadata": {
  "kernelspec": {
   "display_name": "Python 3",
   "language": "python",
   "name": "python3"
  },
  "language_info": {
   "codemirror_mode": {
    "name": "ipython",
    "version": 3
   },
   "file_extension": ".py",
   "mimetype": "text/x-python",
   "name": "python",
   "nbconvert_exporter": "python",
   "pygments_lexer": "ipython3",
   "version": "3.8.3"
  }
 },
 "nbformat": 4,
 "nbformat_minor": 4
}
